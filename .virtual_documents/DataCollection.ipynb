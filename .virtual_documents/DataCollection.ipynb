





#Library Imports - using DuckDB for Overture Import

#Database
import duckdb

#Basics
import pandas as pd
import geopandas as gpd
from geopy.geocoders import Nominatim

#OpenStreetMap
import osmnx as ox


#Config SQL
%pip install ipython-sql duckdb duckdb-engine jupysql --quiet
%pip install --upgrade grpcio --quiet
%load_ext sql


%config SqlMagic.autopandas = True
%config SqlMagic.feedback = False
%config SqlMagic.displaycon = False
%sql duckdb:///:memory:


%%sql      
INSTALL httpfs;

LOAD httpfs;

INSTALL spatial;

LOAD spatial;

SET s3_region='us-west-2';





#Get London Bounding Box

# Initialize the geolocator
geolocator = Nominatim(user_agent="geoapi")

# Get location data
location = geolocator.geocode("London")

# Get the bounding box
bounding_box = location.raw['boundingbox']

# Convert bounding box to coordinates
min_lat, max_lat = float(bounding_box[0]), float(bounding_box[1])
min_lon, max_lon = float(bounding_box[2]), float(bounding_box[3])

print(min_lon)
print(min_lat)
print(max_lon)
print(max_lat)


%%sql

LOAD azure;

SET azure_storage_connection_string = 'DefaultEndpointsProtocol=https;AccountName=overturemapswestus2;AccountKey=;EndpointSuffix=core.windows.net';
COPY (
SELECT
    names.primary as primary_name,
    height,
    level,
    ST_GeomFromWKB(geometry) as geometry
FROM read_parquet('azure://release/2024-05-16-beta.0/theme=buildings/type=building/*', filename=true, hive_partitioning=1)
WHERE primary_name IS NOT NULL
AND bbox.xmin > -0.5103751
AND bbox.xmax < 0.3340155
AND bbox.ymin > 51.2867601
AND bbox.ymax < 51.6918741
) TO 'data/overture_data/london_buildings_overture.geojson'
WITH (FORMAT GDAL, DRIVER 'GeoJSON', SRS 'EPSG:4326');






%%sql

COPY (
    SELECT
        names.primary AS name,
        categories.main as category,
        ROUND(confidence,2) as confidence,
        ST_GeomFromWKB(geometry) as geometry
FROM read_parquet('s3://overturemaps-us-west-2/release/2024-05-16-beta.0/theme=places/*/*')
WHERE
    bbox.xmin BETWEEN -0.5103751 AND 0.3340155 AND
    bbox.ymin BETWEEN 51.2867601 AND 51.6918741
) TO 'data/overture_data/london_places_overture.geojson' WITH (FORMAT GDAL, DRIVER 'GeoJSON', SRS 'EPSG:4326');





#Basic overview stats of London Data - Using the locally saved files here
buildings = gpd.read_file('data/overture_data/london_buildings_overture.geojson')
places = gpd.read_file('data/overture_data/london_places_overture.geojson')

#Count of Features
print("London Building Count: " + str(buildings.shape[0]))
print("London POI count: " + str(places.shape[0]))








#Add City of London
place_name = 'City of London, England, United Kingdom'

buildings_city = ox.features_from_place(place_name, tags={'building': True})
buildings_city = buildings_city[buildings_city.geometry.notnull()]
building_footprints_city = buildings_city[buildings_city.geom_type.isin(['Polygon', 'MultiPolygon'])]

for col in building_footprints_city.columns:
    if building_footprints_city.apply(lambda x: isinstance(x, list)).any():
        building_footprints_city = building_footprints_city[col].apply(lambda x: str(x) if isinstance(x, list) else x)

building_footprints_city = building_footprints_city[['name', 'geometry']].reset_index()

building_footprints_combined = pd.concat([building_footprints, building_footprints_city], ignore_index=True)
        
# Save the combined GeoDataFrame to a geojson file
building_footprints_combined.to_file("data/osm_data/all_london_buildings.geojson", driver="GeoJSON")





#Download Data for 32 Boroughs (Exc. City of London)
place_name = 'London, United Kingdom'

commercial_buildings = ox.features_from_place(place_name, tags={'building': ['commercial']})

commercial_buildings = commercial_buildings[commercial_buildings.geometry.notnull()]
commercial_building_footprints = commercial_buildings[commercial_buildings.geom_type.isin(['Polygon', 'MultiPolygon'])]

for col in commercial_building_footprints.columns:
    if commercial_building_footprints.apply(lambda x: isinstance(x, list)).any():
        commercial_building_footprints = commercial_building_footprints[col].apply(lambda x: str(x) if isinstance(x, list) else x)

commercial_building_footprints = commercial_building_footprints[['name', 'geometry']].reset_index()
print(commercial_building_footprints)
        
# Save the combined GeoDataFrame to a geojson file
commercial_building_footprints.to_file("data/osm_data/boroughs_commercial_buildings.geojson", driver="GeoJSON")


#Add City of London
place_name = 'City of London, England, United Kingdom'

commercial_buildings_city = ox.features_from_place(place_name, tags={'building': ['commercial']})
commercial_buildings_city = commercial_buildings_city[commercial_buildings_city.geometry.notnull()]
commercial_building_footprints_city = commercial_buildings_city[commercial_buildings_city.geom_type.isin(['Polygon', 'MultiPolygon'])]

for col in commercial_building_footprints_city.columns:
    if commercial_building_footprints_city.apply(lambda x: isinstance(x, list)).any():
        commercial_building_footprints_city = commercial_building_footprints_city[col].apply(lambda x: str(x) if isinstance(x, list) else x)

commercial_building_footprints_city = commercial_building_footprints_city[['name', 'geometry']].reset_index()

commercial_building_footprints_combined = pd.concat([commercial_building_footprints, commercial_building_footprints_city], ignore_index=True)
        
# Save the combined GeoDataFrame to a geojson file
commercial_building_footprints_combined.to_file("data/osm_data/all_london_commercial_buildings.geojson", driver="GeoJSON")





# Download Data for 32 Boroughs (Exc. City of London)
place_name = 'London, United Kingdom'

ox.config(use_cache=True, log_console=True)

office_buildings = ox.features_from_place(place_name, tags={'building': ['office']})

office_buildings = office_buildings[office_buildings.geometry.notnull()]
office_building_footprints = office_buildings[office_buildings.geom_type.isin(['Polygon', 'MultiPolygon'])]

for col in office_building_footprints.columns:
    if office_building_footprints.apply(lambda x: isinstance(x, list)).any():
        office_building_footprints[col] = office_building_footprints[col].apply(lambda x: str(x) if isinstance(x, list) else x)

office_building_footprints = office_building_footprints[['name', 'geometry']].reset_index()
print(office_building_footprints)
        
# Save the combined GeoDataFrame to a geojson file
office_building_footprints.to_file("data/osm_data/boroughs_office_buildings.geojson", driver="GeoJSON")



#Add City of London
place_name = 'City of London, England, United Kingdom'

office_buildings_city = ox.features_from_place(place_name, tags={'building': ['office']})
office_buildings_city = office_buildings_city[office_buildings_city.geometry.notnull()]
office_building_footprints_city = office_buildings_city[office_buildings_city.geom_type.isin(['Polygon', 'MultiPolygon'])]

for col in office_building_footprints_city.columns:
    if office_building_footprints_city.apply(lambda x: isinstance(x, list)).any():
        office_building_footprints_city = office_building_footprints_city[col].apply(lambda x: str(x) if isinstance(x, list) else x)

office_building_footprints_city = office_building_footprints_city[['name', 'geometry']].reset_index()

office_building_footprints_combined = pd.concat([office_building_footprints, office_building_footprints_city], ignore_index=True)
        
# Save the combined GeoDataFrame to a geojson file
office_building_footprints_combined.to_file("data/osm_data/all_london_office_buildings.geojson", driver="GeoJSON")





# Download Data for 32 Boroughs (Exc. City of London)
place_name = 'London, United Kingdom'

ox.config(use_cache=True, log_console=True)

residential_buildings = ox.features_from_place(place_name, tags={'building': ['residential']})

residential_buildings = residential_buildings[residential_buildings.geometry.notnull()]
residential_building_footprints = residential_buildings[residential_buildings.geom_type.isin(['Polygon', 'MultiPolygon'])]

for col in residential_building_footprints.columns:
    if residential_building_footprints.apply(lambda x: isinstance(x, list)).any():
        residential_building_footprints[col] = residential_building_footprints[col].apply(lambda x: str(x) if isinstance(x, list) else x)

residential_building_footprints = residential_building_footprints[['name', 'geometry']].reset_index()
print(residential_building_footprints)
        
# Save the combined GeoDataFrame to a geojson file
residential_building_footprints.to_file("data/osm_data/boroughs_residential_buildings.geojson", driver="GeoJSON")



#Add City of London
place_name = 'City of London, England, United Kingdom'

residential_buildings_city = ox.features_from_place(place_name, tags={'building': ['residential']})
residential_buildings_city = residential_buildings_city[residential_buildings_city.geometry.notnull()]
residential_building_footprints_city = residential_buildings_city[residential_buildings_city.geom_type.isin(['Polygon', 'MultiPolygon'])]

for col in residential_building_footprints_city.columns:
    if residential_building_footprints_city.apply(lambda x: isinstance(x, list)).any():
        residential_building_footprints_city = residential_building_footprints_city[col].apply(lambda x: str(x) if isinstance(x, list) else x)

residential_building_footprints_city = residential_building_footprints_city[['name', 'geometry']].reset_index()

residential_building_footprints_combined = pd.concat([residential_building_footprints, residential_building_footprints_city], ignore_index=True)
        
# Save the combined GeoDataFrame to a geojson file
residential_building_footprints_combined.to_file("data/osm_data/all_london_residential_buildings.geojson", driver="GeoJSON")





# Download Data for 32 Boroughs (Exc. City of London)
place_name = 'London, United Kingdom'

ox.config(use_cache=True, log_console=True)

retail_buildings = ox.features_from_place(place_name, tags={'building': ['retail']})

retail_buildings = retail_buildings[retail_buildings.geometry.notnull()]
retail_building_footprints = retail_buildings[retail_buildings.geom_type.isin(['Polygon', 'MultiPolygon'])]

for col in retail_building_footprints.columns:
    if retail_building_footprints.apply(lambda x: isinstance(x, list)).any():
        retail_building_footprints[col] = retail_building_footprints[col].apply(lambda x: str(x) if isinstance(x, list) else x)

retail_building_footprints = retail_building_footprints[['name', 'geometry']].reset_index()
print(retail_building_footprints)
        
# Save the combined GeoDataFrame to a geojson file
retail_building_footprints.to_file("data/osm_data/boroughs_retail_buildings.geojson", driver="GeoJSON")



#Add City of London
place_name = 'City of London, England, United Kingdom'

retail_buildings_city = ox.features_from_place(place_name, tags={'building': ['retail']})
retail_buildings_city = retail_buildings_city[retail_buildings_city.geometry.notnull()]
retail_building_footprints_city = retail_buildings_city[retail_buildings_city.geom_type.isin(['Polygon', 'MultiPolygon'])]

for col in retail_building_footprints_city.columns:
    if retail_building_footprints_city.apply(lambda x: isinstance(x, list)).any():
        retail_building_footprints_city = retail_building_footprints_city[col].apply(lambda x: str(x) if isinstance(x, list) else x)

retail_building_footprints_city = retail_building_footprints_city[['name', 'geometry']].reset_index()

retail_building_footprints_combined = pd.concat([retail_building_footprints, retail_building_footprints_city], ignore_index=True)
        
# Save the combined GeoDataFrame to a geojson file
retail_building_footprints_combined.to_file("data/osm_data/all_london_retail_buildings.geojson", driver="GeoJSON")
