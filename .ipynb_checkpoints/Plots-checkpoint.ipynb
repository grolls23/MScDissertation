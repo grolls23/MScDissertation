{
 "cells": [
  {
   "cell_type": "markdown",
   "id": "34ef4e27-deb9-4fb6-acdc-8d29e49ce094",
   "metadata": {},
   "source": [
    "# Plots\n",
    "\n",
    "This is a workspace for some of the plotting/data vis I need to do. I will do my best not to repeat visualisations created in the other files here"
   ]
  },
  {
   "cell_type": "code",
   "execution_count": 5,
   "id": "fcd7f209-eb9d-48f4-b0dd-af20ea4942fe",
   "metadata": {},
   "outputs": [],
   "source": [
    "# Library Imports\n",
    "\n",
    "#Basics\n",
    "import pandas as pd\n",
    "import geopandas as gpd\n",
    "import numpy as np\n",
    "\n",
    "#Shapely / Spatial\n",
    "from shapely import wkt\n",
    "import shapely.geometry\n",
    "from shapely.geometry import Polygon, MultiPolygon\n",
    "from scipy.spatial import KDTree\n",
    "\n",
    "#Plots and Stats\n",
    "import matplotlib.pyplot as plt\n",
    "import seaborn as sns\n",
    "\n",
    "#Warning Supression\n",
    "import warnings"
   ]
  },
  {
   "cell_type": "code",
   "execution_count": null,
   "id": "2159c6cd-817b-4d74-ae15-131a308a5bc6",
   "metadata": {},
   "outputs": [],
   "source": []
  }
 ],
 "metadata": {
  "kernelspec": {
   "display_name": "urbsim",
   "language": "python",
   "name": "urbsim"
  },
  "language_info": {
   "codemirror_mode": {
    "name": "ipython",
    "version": 3
   },
   "file_extension": ".py",
   "mimetype": "text/x-python",
   "name": "python",
   "nbconvert_exporter": "python",
   "pygments_lexer": "ipython3",
   "version": "3.11.7"
  }
 },
 "nbformat": 4,
 "nbformat_minor": 5
}
