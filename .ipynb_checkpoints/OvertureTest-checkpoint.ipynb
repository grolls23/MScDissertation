{
 "cells": [
  {
   "cell_type": "markdown",
   "id": "73a23514",
   "metadata": {},
   "source": [
    "## Overture Maps Data Download Test\n",
    "### Gavin Rolls\n",
    "\n",
    "NOTE: Use urbsim kernel to avoid parse error"
   ]
  },
  {
   "cell_type": "code",
   "execution_count": 1,
   "id": "bf3464b3",
   "metadata": {},
   "outputs": [],
   "source": [
    "#Library Imports - using DuckDB for Overture Import\n",
    "import duckdb\n",
    "import pandas as pd"
   ]
  },
  {
   "cell_type": "code",
   "execution_count": 3,
   "id": "ce3edb3e",
   "metadata": {
    "scrolled": true
   },
   "outputs": [
    {
     "name": "stdout",
     "output_type": "stream",
     "text": [
      "Note: you may need to restart the kernel to use updated packages.\n",
      "Note: you may need to restart the kernel to use updated packages.\n",
      "Deploy Flask apps for free on Ploomber Cloud! Learn more: https://ploomber.io/s/signup\n"
     ]
    }
   ],
   "source": [
    "#Config SQL\n",
    "%pip install ipython-sql duckdb duckdb-engine jupysql --quiet\n",
    "%pip install --upgrade grpcio --quiet\n",
    "%load_ext sql"
   ]
  },
  {
   "cell_type": "code",
   "execution_count": 5,
   "id": "870752cf",
   "metadata": {},
   "outputs": [],
   "source": [
    "%config SqlMagic.autopandas = True\n",
    "%config SqlMagic.feedback = False\n",
    "%config SqlMagic.displaycon = False\n",
    "%sql duckdb:///:memory:"
   ]
  },
  {
   "cell_type": "code",
   "execution_count": 7,
   "id": "dc6e87a4",
   "metadata": {},
   "outputs": [
    {
     "data": {
      "text/html": [
       "<div>\n",
       "<style scoped>\n",
       "    .dataframe tbody tr th:only-of-type {\n",
       "        vertical-align: middle;\n",
       "    }\n",
       "\n",
       "    .dataframe tbody tr th {\n",
       "        vertical-align: top;\n",
       "    }\n",
       "\n",
       "    .dataframe thead th {\n",
       "        text-align: right;\n",
       "    }\n",
       "</style>\n",
       "<table border=\"1\" class=\"dataframe\">\n",
       "  <thead>\n",
       "    <tr style=\"text-align: right;\">\n",
       "      <th></th>\n",
       "      <th>Success</th>\n",
       "    </tr>\n",
       "  </thead>\n",
       "  <tbody>\n",
       "  </tbody>\n",
       "</table>\n",
       "</div>"
      ],
      "text/plain": [
       "Empty DataFrame\n",
       "Columns: [Success]\n",
       "Index: []"
      ]
     },
     "execution_count": 7,
     "metadata": {},
     "output_type": "execute_result"
    }
   ],
   "source": [
    "%%sql      \n",
    "INSTALL httpfs;\n",
    "\n",
    "LOAD httpfs;\n",
    "\n",
    "INSTALL spatial;\n",
    "\n",
    "LOAD spatial;\n",
    "\n",
    "SET s3_region='us-west-2';"
   ]
  },
  {
   "cell_type": "markdown",
   "id": "daf2b36a",
   "metadata": {},
   "source": [
    "### Demo Direct Loading of Overture Data (Demo from Data Extraction Docs - Overture Maps)"
   ]
  },
  {
   "cell_type": "code",
   "execution_count": null,
   "id": "dd6839e6",
   "metadata": {},
   "outputs": [],
   "source": [
    "#Takes forever - just a proof of concept. It does work, though\n",
    "\n",
    "# %%sql\n",
    "\n",
    "# CREATE OR REPLACE VIEW admins_view AS (\n",
    "#     SELECT\n",
    "#         *\n",
    "#     FROM\n",
    "#         read_parquet('s3://overturemaps-us-west-2/release/2024-05-16-beta.0/theme=admins/type=*/*', filename=true, hive_partitioning=1)\n",
    "# );\n",
    "\n",
    "# COPY (\n",
    "#     SELECT\n",
    "#            admins.id,\n",
    "#            admins.subtype,\n",
    "#            admins.iso_country_code_alpha_2,\n",
    "#            admins.admin_level,\n",
    "#            areas.area_id,\n",
    "#            names.primary AS primary_name,\n",
    "#            sources[1].dataset AS primary_source,\n",
    "#            ST_GeomFromWkb(areas.area_geometry) AS geometry\n",
    "#       FROM admins_view AS admins\n",
    "#       INNER JOIN (\n",
    "#            SELECT\n",
    "#                   id AS area_id,\n",
    "#                   locality_id,\n",
    "#                   geometry AS area_geometry\n",
    "#            FROM admins_view\n",
    "#        ) AS areas ON areas.locality_id == admins.id\n",
    "#       WHERE admins.admin_level = 1\n",
    "#  ) TO 'countries_overture.geojson'\n",
    "# WITH (FORMAT GDAL, DRIVER 'GeoJSON', SRS 'EPSG:4326');"
   ]
  },
  {
   "cell_type": "markdown",
   "id": "fe1ba416-099c-40d2-8b29-d61e3fe624ea",
   "metadata": {},
   "source": [
    "### Demo Direct Loading of POIs (Mountains)"
   ]
  },
  {
   "cell_type": "code",
   "execution_count": 13,
   "id": "7ae99191-6822-4038-93c0-6a2675edb13e",
   "metadata": {},
   "outputs": [
    {
     "data": {
      "application/vnd.jupyter.widget-view+json": {
       "model_id": "39ed0a09eb29428b9d0780504b037b99",
       "version_major": 2,
       "version_minor": 0
      },
      "text/plain": [
       "FloatProgress(value=0.0, layout=Layout(width='auto'), style=ProgressStyle(bar_color='black'))"
      ]
     },
     "metadata": {},
     "output_type": "display_data"
    },
    {
     "data": {
      "text/html": [
       "<div>\n",
       "<style scoped>\n",
       "    .dataframe tbody tr th:only-of-type {\n",
       "        vertical-align: middle;\n",
       "    }\n",
       "\n",
       "    .dataframe tbody tr th {\n",
       "        vertical-align: top;\n",
       "    }\n",
       "\n",
       "    .dataframe thead th {\n",
       "        text-align: right;\n",
       "    }\n",
       "</style>\n",
       "<table border=\"1\" class=\"dataframe\">\n",
       "  <thead>\n",
       "    <tr style=\"text-align: right;\">\n",
       "      <th></th>\n",
       "      <th>Success</th>\n",
       "    </tr>\n",
       "  </thead>\n",
       "  <tbody>\n",
       "  </tbody>\n",
       "</table>\n",
       "</div>"
      ],
      "text/plain": [
       "Empty DataFrame\n",
       "Columns: [Success]\n",
       "Index: []"
      ]
     },
     "execution_count": 13,
     "metadata": {},
     "output_type": "execute_result"
    }
   ],
   "source": [
    "%%sql\n",
    "\n",
    "COPY(\n",
    "SELECT\n",
    "   id,\n",
    "   names.primary as primary_name,\n",
    "   bbox.xmin as x,\n",
    "   bbox.ymin as y,\n",
    "   ST_GeomFromWKB(geometry) as geometry,\n",
    "   categories.main as main_category,\n",
    "   sources[1].dataset AS primary_source,\n",
    "   confidence\n",
    "FROM read_parquet('s3://overturemaps-us-west-2/release/2024-05-16-beta.0/theme=places/type=*/*', filename=true, hive_partitioning=1)\n",
    "WHERE main_category = 'mountain' AND confidence > .90\n",
    "ORDER BY confidence DESC\n",
    ") TO 'overture_places_mountains_gt90.shp'\n",
    "WITH (FORMAT GDAL, DRIVER 'GeoJSON');"
   ]
  },
  {
   "cell_type": "markdown",
   "id": "cc3b0d6e-87aa-482a-9ce2-cdc2e03e8d43",
   "metadata": {},
   "source": [
    "### Test Retail Download - London"
   ]
  },
  {
   "cell_type": "code",
   "execution_count": 57,
   "id": "f9bfbcb9-08b2-494a-9527-6d2243108e6b",
   "metadata": {},
   "outputs": [],
   "source": [
    "#Get London Bounding Box\n",
    "from geopy.geocoders import Nominatim\n",
    "from shapely.geometry import box\n",
    "\n",
    "# Initialize the geolocator\n",
    "geolocator = Nominatim(user_agent=\"geoapi\")\n",
    "\n",
    "# Get location data\n",
    "location = geolocator.geocode(\"London\")\n",
    "\n",
    "# Get the bounding box\n",
    "bounding_box = location.raw['boundingbox']\n",
    "\n",
    "# Convert bounding box to coordinates\n",
    "min_lat, max_lat = float(bounding_box[0]), float(bounding_box[1])\n",
    "min_lon, max_lon = float(bounding_box[2]), float(bounding_box[3])"
   ]
  },
  {
   "cell_type": "code",
   "execution_count": null,
   "id": "d425287a-ac0c-41eb-b5c9-1178bf488a14",
   "metadata": {},
   "outputs": [],
   "source": [
    "%%sql\n",
    "\n",
    "LOAD azure;\n",
    "SET azure_storage_connection_string = 'DefaultEndpointsProtocol=https;AccountName=overturemapswestus2;AccountKey=;EndpointSuffix=core.windows.net';\n",
    "\n",
    "SELECT\n",
    "  id,\n",
    "  names.primary as primary_name,\n",
    "  height,\n",
    "  ST_GeomFromWKB(geometry) as geometry\n",
    "FROM read_parquet('azure://release/2024-05-16-beta.0/theme=buildings/type=*/*', filename=true, hive_partitioning=1)\n",
    "WHERE primary_name IS NOT NULL\n",
    "AND bbox.xmin > {{min_lon}}\n",
    "AND bbox.xmax < {{max_lat}}\n",
    "AND bbox.ymin > {{max_lon}}\n",
    "AND bbox.ymax < {{min_lat}};"
   ]
  }
 ],
 "metadata": {
  "kernelspec": {
   "display_name": "urbsim",
   "language": "python",
   "name": "urbsim"
  },
  "language_info": {
   "codemirror_mode": {
    "name": "ipython",
    "version": 3
   },
   "file_extension": ".py",
   "mimetype": "text/x-python",
   "name": "python",
   "nbconvert_exporter": "python",
   "pygments_lexer": "ipython3",
   "version": "3.11.7"
  }
 },
 "nbformat": 4,
 "nbformat_minor": 5
}
