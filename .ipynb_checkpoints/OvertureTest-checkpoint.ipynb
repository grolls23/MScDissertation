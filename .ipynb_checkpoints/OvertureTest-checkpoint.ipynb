{
 "cells": [
  {
   "cell_type": "markdown",
   "id": "73a23514",
   "metadata": {},
   "source": [
    "## Overture Maps Data Download Test\n",
    "### Gavin Rolls\n",
    "\n",
    "NOTE: Use urbsim kernel to avoid parse error"
   ]
  },
  {
   "cell_type": "code",
   "execution_count": 2,
   "id": "bf3464b3",
   "metadata": {},
   "outputs": [],
   "source": [
    "#Library Imports - using DuckDB for Overture Import\n",
    "import duckdb\n",
    "import pandas as pd"
   ]
  },
  {
   "cell_type": "code",
   "execution_count": 3,
   "id": "ce3edb3e",
   "metadata": {
    "scrolled": true
   },
   "outputs": [
    {
     "name": "stdout",
     "output_type": "stream",
     "text": [
      "Note: you may need to restart the kernel to use updated packages.\n",
      "Note: you may need to restart the kernel to use updated packages.\n"
     ]
    }
   ],
   "source": [
    "#Config SQL\n",
    "%pip install ipython-sql duckdb duckdb-engine jupysql --quiet\n",
    "%pip install --upgrade grpcio --quiet\n",
    "%load_ext sql"
   ]
  },
  {
   "cell_type": "code",
   "execution_count": 4,
   "id": "870752cf",
   "metadata": {},
   "outputs": [],
   "source": [
    "%config SqlMagic.autopandas = True\n",
    "%config SqlMagic.feedback = False\n",
    "%config SqlMagic.displaycon = False\n",
    "%sql duckdb:///:memory:"
   ]
  },
  {
   "cell_type": "code",
   "execution_count": 5,
   "id": "dc6e87a4",
   "metadata": {},
   "outputs": [
    {
     "data": {
      "text/html": [
       "<div>\n",
       "<style scoped>\n",
       "    .dataframe tbody tr th:only-of-type {\n",
       "        vertical-align: middle;\n",
       "    }\n",
       "\n",
       "    .dataframe tbody tr th {\n",
       "        vertical-align: top;\n",
       "    }\n",
       "\n",
       "    .dataframe thead th {\n",
       "        text-align: right;\n",
       "    }\n",
       "</style>\n",
       "<table border=\"1\" class=\"dataframe\">\n",
       "  <thead>\n",
       "    <tr style=\"text-align: right;\">\n",
       "      <th></th>\n",
       "      <th>Success</th>\n",
       "    </tr>\n",
       "  </thead>\n",
       "  <tbody>\n",
       "  </tbody>\n",
       "</table>\n",
       "</div>"
      ],
      "text/plain": [
       "Empty DataFrame\n",
       "Columns: [Success]\n",
       "Index: []"
      ]
     },
     "execution_count": 5,
     "metadata": {},
     "output_type": "execute_result"
    }
   ],
   "source": [
    "%%sql      \n",
    "INSTALL httpfs;\n",
    "\n",
    "LOAD httpfs;\n",
    "\n",
    "INSTALL spatial;\n",
    "\n",
    "LOAD spatial;\n",
    "\n",
    "SET s3_region='us-west-2';"
   ]
  },
  {
   "cell_type": "markdown",
   "id": "daf2b36a",
   "metadata": {},
   "source": [
    "### Demo Direct Loading of Overture Data (Demo from Data Extraction Docs - Overture Maps)"
   ]
  },
  {
   "cell_type": "code",
   "execution_count": null,
   "id": "dd6839e6",
   "metadata": {},
   "outputs": [],
   "source": [
    "#Takes forever - just a proof of concept. It does work, though\n",
    "\n",
    "# %%sql\n",
    "\n",
    "# CREATE OR REPLACE VIEW admins_view AS (\n",
    "#     SELECT\n",
    "#         *\n",
    "#     FROM\n",
    "#         read_parquet('s3://overturemaps-us-west-2/release/2024-05-16-beta.0/theme=admins/type=*/*', filename=true, hive_partitioning=1)\n",
    "# );\n",
    "\n",
    "# COPY (\n",
    "#     SELECT\n",
    "#            admins.id,\n",
    "#            admins.subtype,\n",
    "#            admins.iso_country_code_alpha_2,\n",
    "#            admins.admin_level,\n",
    "#            areas.area_id,\n",
    "#            names.primary AS primary_name,\n",
    "#            sources[1].dataset AS primary_source,\n",
    "#            ST_GeomFromWkb(areas.area_geometry) AS geometry\n",
    "#       FROM admins_view AS admins\n",
    "#       INNER JOIN (\n",
    "#            SELECT\n",
    "#                   id AS area_id,\n",
    "#                   locality_id,\n",
    "#                   geometry AS area_geometry\n",
    "#            FROM admins_view\n",
    "#        ) AS areas ON areas.locality_id == admins.id\n",
    "#       WHERE admins.admin_level = 1\n",
    "#  ) TO 'countries_overture.geojson'\n",
    "# WITH (FORMAT GDAL, DRIVER 'GeoJSON', SRS 'EPSG:4326');"
   ]
  },
  {
   "cell_type": "markdown",
   "id": "fe1ba416-099c-40d2-8b29-d61e3fe624ea",
   "metadata": {},
   "source": [
    "### Demo Direct Loading of POIs (Mountains)"
   ]
  },
  {
   "cell_type": "code",
   "execution_count": 13,
   "id": "7ae99191-6822-4038-93c0-6a2675edb13e",
   "metadata": {},
   "outputs": [
    {
     "data": {
      "application/vnd.jupyter.widget-view+json": {
       "model_id": "39ed0a09eb29428b9d0780504b037b99",
       "version_major": 2,
       "version_minor": 0
      },
      "text/plain": [
       "FloatProgress(value=0.0, layout=Layout(width='auto'), style=ProgressStyle(bar_color='black'))"
      ]
     },
     "metadata": {},
     "output_type": "display_data"
    },
    {
     "data": {
      "text/html": [
       "<div>\n",
       "<style scoped>\n",
       "    .dataframe tbody tr th:only-of-type {\n",
       "        vertical-align: middle;\n",
       "    }\n",
       "\n",
       "    .dataframe tbody tr th {\n",
       "        vertical-align: top;\n",
       "    }\n",
       "\n",
       "    .dataframe thead th {\n",
       "        text-align: right;\n",
       "    }\n",
       "</style>\n",
       "<table border=\"1\" class=\"dataframe\">\n",
       "  <thead>\n",
       "    <tr style=\"text-align: right;\">\n",
       "      <th></th>\n",
       "      <th>Success</th>\n",
       "    </tr>\n",
       "  </thead>\n",
       "  <tbody>\n",
       "  </tbody>\n",
       "</table>\n",
       "</div>"
      ],
      "text/plain": [
       "Empty DataFrame\n",
       "Columns: [Success]\n",
       "Index: []"
      ]
     },
     "execution_count": 13,
     "metadata": {},
     "output_type": "execute_result"
    }
   ],
   "source": [
    "# %%sql\n",
    "\n",
    "# COPY(\n",
    "# SELECT\n",
    "#    id,\n",
    "#    names.primary as primary_name,\n",
    "#    bbox.xmin as x,\n",
    "#    bbox.ymin as y,\n",
    "#    ST_GeomFromWKB(geometry) as geometry,\n",
    "#    categories.main as main_category,\n",
    "#    sources[1].dataset AS primary_source,\n",
    "#    confidence\n",
    "# FROM read_parquet('s3://overturemaps-us-west-2/release/2024-05-16-beta.0/theme=places/type=*/*', filename=true, hive_partitioning=1)\n",
    "# WHERE main_category = 'mountain' AND confidence > .90\n",
    "# ORDER BY confidence DESC\n",
    "# ) TO 'overture_places_mountains_gt90.shp'\n",
    "# WITH (FORMAT GDAL, DRIVER 'GeoJSON');"
   ]
  },
  {
   "cell_type": "markdown",
   "id": "cc3b0d6e-87aa-482a-9ce2-cdc2e03e8d43",
   "metadata": {},
   "source": [
    "### Test Building Download - London"
   ]
  },
  {
   "cell_type": "code",
   "execution_count": 6,
   "id": "f9bfbcb9-08b2-494a-9527-6d2243108e6b",
   "metadata": {},
   "outputs": [
    {
     "name": "stdout",
     "output_type": "stream",
     "text": [
      "-0.5103751\n",
      "51.2867601\n",
      "0.3340155\n",
      "51.6918741\n"
     ]
    }
   ],
   "source": [
    "#Get London Bounding Box\n",
    "from geopy.geocoders import Nominatim\n",
    "from shapely.geometry import box\n",
    "\n",
    "# Initialize the geolocator\n",
    "geolocator = Nominatim(user_agent=\"geoapi\")\n",
    "\n",
    "# Get location data\n",
    "location = geolocator.geocode(\"London\")\n",
    "\n",
    "# Get the bounding box\n",
    "bounding_box = location.raw['boundingbox']\n",
    "\n",
    "# Convert bounding box to coordinates\n",
    "min_lat, max_lat = float(bounding_box[0]), float(bounding_box[1])\n",
    "min_lon, max_lon = float(bounding_box[2]), float(bounding_box[3])\n",
    "\n",
    "print(min_lon)\n",
    "print(min_lat)\n",
    "print(max_lon)\n",
    "print(max_lat)"
   ]
  },
  {
   "cell_type": "code",
   "execution_count": 24,
   "id": "d425287a-ac0c-41eb-b5c9-1178bf488a14",
   "metadata": {},
   "outputs": [
    {
     "data": {
      "application/vnd.jupyter.widget-view+json": {
       "model_id": "6cbd55c55d7f4053837e2218b7686d5e",
       "version_major": 2,
       "version_minor": 0
      },
      "text/plain": [
       "FloatProgress(value=0.0, layout=Layout(width='auto'), style=ProgressStyle(bar_color='black'))"
      ]
     },
     "metadata": {},
     "output_type": "display_data"
    },
    {
     "data": {
      "text/html": [
       "<div>\n",
       "<style scoped>\n",
       "    .dataframe tbody tr th:only-of-type {\n",
       "        vertical-align: middle;\n",
       "    }\n",
       "\n",
       "    .dataframe tbody tr th {\n",
       "        vertical-align: top;\n",
       "    }\n",
       "\n",
       "    .dataframe thead th {\n",
       "        text-align: right;\n",
       "    }\n",
       "</style>\n",
       "<table border=\"1\" class=\"dataframe\">\n",
       "  <thead>\n",
       "    <tr style=\"text-align: right;\">\n",
       "      <th></th>\n",
       "      <th>Success</th>\n",
       "    </tr>\n",
       "  </thead>\n",
       "  <tbody>\n",
       "  </tbody>\n",
       "</table>\n",
       "</div>"
      ],
      "text/plain": [
       "Empty DataFrame\n",
       "Columns: [Success]\n",
       "Index: []"
      ]
     },
     "execution_count": 24,
     "metadata": {},
     "output_type": "execute_result"
    }
   ],
   "source": [
    "%%sql\n",
    "\n",
    "LOAD azure;\n",
    "\n",
    "SET azure_storage_connection_string = 'DefaultEndpointsProtocol=https;AccountName=overturemapswestus2;AccountKey=;EndpointSuffix=core.windows.net';\n",
    "COPY (\n",
    "SELECT\n",
    "    names.primary as primary_name,\n",
    "    height,\n",
    "    level,\n",
    "    ST_GeomFromWKB(geometry) as geometry\n",
    "FROM read_parquet('azure://release/2024-05-16-beta.0/theme=buildings/type=building/*', filename=true, hive_partitioning=1)\n",
    "WHERE primary_name IS NOT NULL\n",
    "AND bbox.xmin > -0.5103751\n",
    "AND bbox.xmax < 0.3340155\n",
    "AND bbox.ymin > 51.2867601\n",
    "AND bbox.ymax < 51.6918741\n",
    ") TO 'data/london_buildings.geojsonseq'\n",
    "WITH (FORMAT GDAL, DRIVER 'GeoJSONSeq', SRS 'EPSG:4326');\n",
    "\n"
   ]
  },
  {
   "cell_type": "markdown",
   "id": "e401b333-3c28-46e6-a7ba-88dafa2fcb7e",
   "metadata": {},
   "source": [
    "### Test Places Download - London"
   ]
  },
  {
   "cell_type": "code",
   "execution_count": 22,
   "id": "cfd5cc5e-05d6-426b-ba1e-0cd3b85ef9b3",
   "metadata": {},
   "outputs": [
    {
     "data": {
      "application/vnd.jupyter.widget-view+json": {
       "model_id": "04e67bcb692d46e29d748b5ba4a89ccb",
       "version_major": 2,
       "version_minor": 0
      },
      "text/plain": [
       "FloatProgress(value=0.0, layout=Layout(width='auto'), style=ProgressStyle(bar_color='black'))"
      ]
     },
     "metadata": {},
     "output_type": "display_data"
    },
    {
     "data": {
      "text/html": [
       "<div>\n",
       "<style scoped>\n",
       "    .dataframe tbody tr th:only-of-type {\n",
       "        vertical-align: middle;\n",
       "    }\n",
       "\n",
       "    .dataframe tbody tr th {\n",
       "        vertical-align: top;\n",
       "    }\n",
       "\n",
       "    .dataframe thead th {\n",
       "        text-align: right;\n",
       "    }\n",
       "</style>\n",
       "<table border=\"1\" class=\"dataframe\">\n",
       "  <thead>\n",
       "    <tr style=\"text-align: right;\">\n",
       "      <th></th>\n",
       "      <th>Success</th>\n",
       "    </tr>\n",
       "  </thead>\n",
       "  <tbody>\n",
       "  </tbody>\n",
       "</table>\n",
       "</div>"
      ],
      "text/plain": [
       "Empty DataFrame\n",
       "Columns: [Success]\n",
       "Index: []"
      ]
     },
     "execution_count": 22,
     "metadata": {},
     "output_type": "execute_result"
    }
   ],
   "source": [
    "%%sql\n",
    "\n",
    "COPY (\n",
    "    SELECT\n",
    "        names.primary AS name,\n",
    "        categories.main as category,\n",
    "        ROUND(confidence,2) as confidence,\n",
    "        ST_GeomFromWKB(geometry) as geometry\n",
    "FROM read_parquet('s3://overturemaps-us-west-2/release/2024-05-16-beta.0/theme=places/*/*')\n",
    "WHERE\n",
    "    bbox.xmin BETWEEN -0.5103751 AND 0.3340155 AND\n",
    "    bbox.ymin BETWEEN 51.2867601 AND 51.6918741\n",
    ") TO 'data/london_places.geojson' WITH (FORMAT GDAL, DRIVER 'GeoJSON', SRS 'EPSG:4326');"
   ]
  },
  {
   "cell_type": "code",
   "execution_count": 36,
   "id": "7dfccca7-ad8d-4842-be9f-2db9fba6746b",
   "metadata": {},
   "outputs": [
    {
     "ename": "JSONDecodeError",
     "evalue": "Extra data: line 2 column 1 (char 309)",
     "output_type": "error",
     "traceback": [
      "\u001b[0;31m---------------------------------------------------------------------------\u001b[0m",
      "\u001b[0;31mJSONDecodeError\u001b[0m                           Traceback (most recent call last)",
      "Cell \u001b[0;32mIn[36], line 5\u001b[0m\n\u001b[1;32m      2\u001b[0m buildings_json \u001b[38;5;241m=\u001b[39m \u001b[38;5;28mopen\u001b[39m(\u001b[38;5;124m'\u001b[39m\u001b[38;5;124mdata/london_buildings.geojsonseq\u001b[39m\u001b[38;5;124m'\u001b[39m)\n\u001b[1;32m      3\u001b[0m places_json \u001b[38;5;241m=\u001b[39m \u001b[38;5;28mopen\u001b[39m(\u001b[38;5;124m'\u001b[39m\u001b[38;5;124mdata/london_places.geojson\u001b[39m\u001b[38;5;124m'\u001b[39m)\n\u001b[0;32m----> 5\u001b[0m buildings \u001b[38;5;241m=\u001b[39m \u001b[43mjson\u001b[49m\u001b[38;5;241;43m.\u001b[39;49m\u001b[43mload\u001b[49m\u001b[43m(\u001b[49m\u001b[43mbuildings_json\u001b[49m\u001b[43m)\u001b[49m\n\u001b[1;32m      6\u001b[0m places \u001b[38;5;241m=\u001b[39m json\u001b[38;5;241m.\u001b[39mload(places_json)\n\u001b[1;32m      8\u001b[0m \u001b[38;5;28mprint\u001b[39m(\u001b[38;5;28mlen\u001b[39m(buildings[\u001b[38;5;124m'\u001b[39m\u001b[38;5;124mfeatures\u001b[39m\u001b[38;5;124m'\u001b[39m]))\n",
      "File \u001b[0;32m~/anaconda3/envs/urbsim/lib/python3.11/json/__init__.py:293\u001b[0m, in \u001b[0;36mload\u001b[0;34m(fp, cls, object_hook, parse_float, parse_int, parse_constant, object_pairs_hook, **kw)\u001b[0m\n\u001b[1;32m    274\u001b[0m \u001b[38;5;28;01mdef\u001b[39;00m \u001b[38;5;21mload\u001b[39m(fp, \u001b[38;5;241m*\u001b[39m, \u001b[38;5;28mcls\u001b[39m\u001b[38;5;241m=\u001b[39m\u001b[38;5;28;01mNone\u001b[39;00m, object_hook\u001b[38;5;241m=\u001b[39m\u001b[38;5;28;01mNone\u001b[39;00m, parse_float\u001b[38;5;241m=\u001b[39m\u001b[38;5;28;01mNone\u001b[39;00m,\n\u001b[1;32m    275\u001b[0m         parse_int\u001b[38;5;241m=\u001b[39m\u001b[38;5;28;01mNone\u001b[39;00m, parse_constant\u001b[38;5;241m=\u001b[39m\u001b[38;5;28;01mNone\u001b[39;00m, object_pairs_hook\u001b[38;5;241m=\u001b[39m\u001b[38;5;28;01mNone\u001b[39;00m, \u001b[38;5;241m*\u001b[39m\u001b[38;5;241m*\u001b[39mkw):\n\u001b[1;32m    276\u001b[0m \u001b[38;5;250m    \u001b[39m\u001b[38;5;124;03m\"\"\"Deserialize ``fp`` (a ``.read()``-supporting file-like object containing\u001b[39;00m\n\u001b[1;32m    277\u001b[0m \u001b[38;5;124;03m    a JSON document) to a Python object.\u001b[39;00m\n\u001b[1;32m    278\u001b[0m \n\u001b[0;32m   (...)\u001b[0m\n\u001b[1;32m    291\u001b[0m \u001b[38;5;124;03m    kwarg; otherwise ``JSONDecoder`` is used.\u001b[39;00m\n\u001b[1;32m    292\u001b[0m \u001b[38;5;124;03m    \"\"\"\u001b[39;00m\n\u001b[0;32m--> 293\u001b[0m     \u001b[38;5;28;01mreturn\u001b[39;00m \u001b[43mloads\u001b[49m\u001b[43m(\u001b[49m\u001b[43mfp\u001b[49m\u001b[38;5;241;43m.\u001b[39;49m\u001b[43mread\u001b[49m\u001b[43m(\u001b[49m\u001b[43m)\u001b[49m\u001b[43m,\u001b[49m\n\u001b[1;32m    294\u001b[0m \u001b[43m        \u001b[49m\u001b[38;5;28;43mcls\u001b[39;49m\u001b[38;5;241;43m=\u001b[39;49m\u001b[38;5;28;43mcls\u001b[39;49m\u001b[43m,\u001b[49m\u001b[43m \u001b[49m\u001b[43mobject_hook\u001b[49m\u001b[38;5;241;43m=\u001b[39;49m\u001b[43mobject_hook\u001b[49m\u001b[43m,\u001b[49m\n\u001b[1;32m    295\u001b[0m \u001b[43m        \u001b[49m\u001b[43mparse_float\u001b[49m\u001b[38;5;241;43m=\u001b[39;49m\u001b[43mparse_float\u001b[49m\u001b[43m,\u001b[49m\u001b[43m \u001b[49m\u001b[43mparse_int\u001b[49m\u001b[38;5;241;43m=\u001b[39;49m\u001b[43mparse_int\u001b[49m\u001b[43m,\u001b[49m\n\u001b[1;32m    296\u001b[0m \u001b[43m        \u001b[49m\u001b[43mparse_constant\u001b[49m\u001b[38;5;241;43m=\u001b[39;49m\u001b[43mparse_constant\u001b[49m\u001b[43m,\u001b[49m\u001b[43m \u001b[49m\u001b[43mobject_pairs_hook\u001b[49m\u001b[38;5;241;43m=\u001b[39;49m\u001b[43mobject_pairs_hook\u001b[49m\u001b[43m,\u001b[49m\u001b[43m \u001b[49m\u001b[38;5;241;43m*\u001b[39;49m\u001b[38;5;241;43m*\u001b[39;49m\u001b[43mkw\u001b[49m\u001b[43m)\u001b[49m\n",
      "File \u001b[0;32m~/anaconda3/envs/urbsim/lib/python3.11/json/__init__.py:346\u001b[0m, in \u001b[0;36mloads\u001b[0;34m(s, cls, object_hook, parse_float, parse_int, parse_constant, object_pairs_hook, **kw)\u001b[0m\n\u001b[1;32m    341\u001b[0m     s \u001b[38;5;241m=\u001b[39m s\u001b[38;5;241m.\u001b[39mdecode(detect_encoding(s), \u001b[38;5;124m'\u001b[39m\u001b[38;5;124msurrogatepass\u001b[39m\u001b[38;5;124m'\u001b[39m)\n\u001b[1;32m    343\u001b[0m \u001b[38;5;28;01mif\u001b[39;00m (\u001b[38;5;28mcls\u001b[39m \u001b[38;5;129;01mis\u001b[39;00m \u001b[38;5;28;01mNone\u001b[39;00m \u001b[38;5;129;01mand\u001b[39;00m object_hook \u001b[38;5;129;01mis\u001b[39;00m \u001b[38;5;28;01mNone\u001b[39;00m \u001b[38;5;129;01mand\u001b[39;00m\n\u001b[1;32m    344\u001b[0m         parse_int \u001b[38;5;129;01mis\u001b[39;00m \u001b[38;5;28;01mNone\u001b[39;00m \u001b[38;5;129;01mand\u001b[39;00m parse_float \u001b[38;5;129;01mis\u001b[39;00m \u001b[38;5;28;01mNone\u001b[39;00m \u001b[38;5;129;01mand\u001b[39;00m\n\u001b[1;32m    345\u001b[0m         parse_constant \u001b[38;5;129;01mis\u001b[39;00m \u001b[38;5;28;01mNone\u001b[39;00m \u001b[38;5;129;01mand\u001b[39;00m object_pairs_hook \u001b[38;5;129;01mis\u001b[39;00m \u001b[38;5;28;01mNone\u001b[39;00m \u001b[38;5;129;01mand\u001b[39;00m \u001b[38;5;129;01mnot\u001b[39;00m kw):\n\u001b[0;32m--> 346\u001b[0m     \u001b[38;5;28;01mreturn\u001b[39;00m \u001b[43m_default_decoder\u001b[49m\u001b[38;5;241;43m.\u001b[39;49m\u001b[43mdecode\u001b[49m\u001b[43m(\u001b[49m\u001b[43ms\u001b[49m\u001b[43m)\u001b[49m\n\u001b[1;32m    347\u001b[0m \u001b[38;5;28;01mif\u001b[39;00m \u001b[38;5;28mcls\u001b[39m \u001b[38;5;129;01mis\u001b[39;00m \u001b[38;5;28;01mNone\u001b[39;00m:\n\u001b[1;32m    348\u001b[0m     \u001b[38;5;28mcls\u001b[39m \u001b[38;5;241m=\u001b[39m JSONDecoder\n",
      "File \u001b[0;32m~/anaconda3/envs/urbsim/lib/python3.11/json/decoder.py:340\u001b[0m, in \u001b[0;36mJSONDecoder.decode\u001b[0;34m(self, s, _w)\u001b[0m\n\u001b[1;32m    338\u001b[0m end \u001b[38;5;241m=\u001b[39m _w(s, end)\u001b[38;5;241m.\u001b[39mend()\n\u001b[1;32m    339\u001b[0m \u001b[38;5;28;01mif\u001b[39;00m end \u001b[38;5;241m!=\u001b[39m \u001b[38;5;28mlen\u001b[39m(s):\n\u001b[0;32m--> 340\u001b[0m     \u001b[38;5;28;01mraise\u001b[39;00m JSONDecodeError(\u001b[38;5;124m\"\u001b[39m\u001b[38;5;124mExtra data\u001b[39m\u001b[38;5;124m\"\u001b[39m, s, end)\n\u001b[1;32m    341\u001b[0m \u001b[38;5;28;01mreturn\u001b[39;00m obj\n",
      "\u001b[0;31mJSONDecodeError\u001b[0m: Extra data: line 2 column 1 (char 309)"
     ]
    }
   ],
   "source": [
    "#Basic overview stats of London Data\n",
    "buildings_json = open('data/london_buildings.geojsonseq')\n",
    "places_json = open('data/london_places.geojson')\n",
    "\n",
    "buildings = json.load(buildings_json)\n",
    "places = json.load(places_json)\n",
    "\n",
    "print(len(buildings['features']))\n",
    "print(len(places['features']))"
   ]
  }
 ],
 "metadata": {
  "kernelspec": {
   "display_name": "urbsim",
   "language": "python",
   "name": "urbsim"
  },
  "language_info": {
   "codemirror_mode": {
    "name": "ipython",
    "version": 3
   },
   "file_extension": ".py",
   "mimetype": "text/x-python",
   "name": "python",
   "nbconvert_exporter": "python",
   "pygments_lexer": "ipython3",
   "version": "3.11.7"
  }
 },
 "nbformat": 4,
 "nbformat_minor": 5
}
