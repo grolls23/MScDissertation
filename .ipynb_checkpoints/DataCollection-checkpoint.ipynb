{
 "cells": [
  {
   "cell_type": "markdown",
   "id": "b4fe203d-9069-4397-9474-016cef76d9e9",
   "metadata": {},
   "source": [
    "## Dissertation Data Collection\n",
    "### Gavin Rolls\n",
    "\n",
    "Migrated from OvertureTest.ipynb, these are the queries I used to save OSM and Overture data locally for Greater London. Because it's easier to grab the data I need from my desktop as opposed to running these queries every time I need data, I'm leaving them here"
   ]
  },
  {
   "cell_type": "markdown",
   "id": "93437ad6-96c1-48df-a9d1-ef39b1b2dcf7",
   "metadata": {},
   "source": [
    "### Imports + Database Configuration"
   ]
  },
  {
   "cell_type": "code",
   "execution_count": 7,
   "id": "3fd114ac-a686-4b11-af09-e86767017811",
   "metadata": {},
   "outputs": [],
   "source": [
    "#Library Imports - using DuckDB for Overture Import\n",
    "\n",
    "#Database\n",
    "import duckdb\n",
    "\n",
    "#Basics\n",
    "import pandas as pd\n",
    "import geopandas as gpd\n",
    "\n",
    "#OpenStreetMap\n",
    "import osmnx as ox"
   ]
  },
  {
   "cell_type": "code",
   "execution_count": 10,
   "id": "4f670070-15c0-445c-a286-ff0fa0f488f3",
   "metadata": {},
   "outputs": [
    {
     "name": "stdout",
     "output_type": "stream",
     "text": [
      "Note: you may need to restart the kernel to use updated packages.\n",
      "Note: you may need to restart the kernel to use updated packages.\n"
     ]
    }
   ],
   "source": [
    "#Config SQL\n",
    "%pip install ipython-sql duckdb duckdb-engine jupysql --quiet\n",
    "%pip install --upgrade grpcio --quiet\n",
    "%load_ext sql"
   ]
  },
  {
   "cell_type": "code",
   "execution_count": 11,
   "id": "97d3432b-4a0a-4cd5-9153-bd87ea16a53d",
   "metadata": {},
   "outputs": [],
   "source": [
    "%config SqlMagic.autopandas = True\n",
    "%config SqlMagic.feedback = False\n",
    "%config SqlMagic.displaycon = False\n",
    "%sql duckdb:///:memory:"
   ]
  },
  {
   "cell_type": "code",
   "execution_count": 12,
   "id": "26623165-e100-4c80-b2be-95ef4b967bee",
   "metadata": {},
   "outputs": [
    {
     "data": {
      "text/html": [
       "<div>\n",
       "<style scoped>\n",
       "    .dataframe tbody tr th:only-of-type {\n",
       "        vertical-align: middle;\n",
       "    }\n",
       "\n",
       "    .dataframe tbody tr th {\n",
       "        vertical-align: top;\n",
       "    }\n",
       "\n",
       "    .dataframe thead th {\n",
       "        text-align: right;\n",
       "    }\n",
       "</style>\n",
       "<table border=\"1\" class=\"dataframe\">\n",
       "  <thead>\n",
       "    <tr style=\"text-align: right;\">\n",
       "      <th></th>\n",
       "      <th>Success</th>\n",
       "    </tr>\n",
       "  </thead>\n",
       "  <tbody>\n",
       "  </tbody>\n",
       "</table>\n",
       "</div>"
      ],
      "text/plain": [
       "Empty DataFrame\n",
       "Columns: [Success]\n",
       "Index: []"
      ]
     },
     "execution_count": 12,
     "metadata": {},
     "output_type": "execute_result"
    }
   ],
   "source": [
    "%%sql      \n",
    "INSTALL httpfs;\n",
    "\n",
    "LOAD httpfs;\n",
    "\n",
    "INSTALL spatial;\n",
    "\n",
    "LOAD spatial;\n",
    "\n",
    "SET s3_region='us-west-2';"
   ]
  },
  {
   "cell_type": "markdown",
   "id": "927059a1-31ba-41c5-b231-5e1b7e8b6a18",
   "metadata": {},
   "source": [
    "### Download Buildings - Overture\n",
    "\n",
    "Downloaded as 'data/london_buildings_overture.geojson'"
   ]
  },
  {
   "cell_type": "code",
   "execution_count": 16,
   "id": "1d26488e-f0c7-453a-b5ff-33b404f98af6",
   "metadata": {},
   "outputs": [
    {
     "name": "stdout",
     "output_type": "stream",
     "text": [
      "-0.5103751\n",
      "51.2867601\n",
      "0.3340155\n",
      "51.6918741\n"
     ]
    }
   ],
   "source": [
    "#Get London Bounding Box\n",
    "\n",
    "# Initialize the geolocator\n",
    "geolocator = Nominatim(user_agent=\"geoapi\")\n",
    "\n",
    "# Get location data\n",
    "location = geolocator.geocode(\"London\")\n",
    "\n",
    "# Get the bounding box\n",
    "bounding_box = location.raw['boundingbox']\n",
    "\n",
    "# Convert bounding box to coordinates\n",
    "min_lat, max_lat = float(bounding_box[0]), float(bounding_box[1])\n",
    "min_lon, max_lon = float(bounding_box[2]), float(bounding_box[3])\n",
    "\n",
    "print(min_lon)\n",
    "print(min_lat)\n",
    "print(max_lon)\n",
    "print(max_lat)"
   ]
  },
  {
   "cell_type": "code",
   "execution_count": null,
   "id": "b4c8e938-995b-4e1f-bd62-f72fd9779626",
   "metadata": {},
   "outputs": [],
   "source": [
    "%%sql\n",
    "\n",
    "LOAD azure;\n",
    "\n",
    "SET azure_storage_connection_string = 'DefaultEndpointsProtocol=https;AccountName=overturemapswestus2;AccountKey=;EndpointSuffix=core.windows.net';\n",
    "COPY (\n",
    "SELECT\n",
    "    names.primary as primary_name,\n",
    "    height,\n",
    "    level,\n",
    "    ST_GeomFromWKB(geometry) as geometry\n",
    "FROM read_parquet('azure://release/2024-05-16-beta.0/theme=buildings/type=building/*', filename=true, hive_partitioning=1)\n",
    "WHERE primary_name IS NOT NULL\n",
    "AND bbox.xmin > -0.5103751\n",
    "AND bbox.xmax < 0.3340155\n",
    "AND bbox.ymin > 51.2867601\n",
    "AND bbox.ymax < 51.6918741\n",
    ") TO 'data/overture_data/london_buildings_overture.geojson'\n",
    "WITH (FORMAT GDAL, DRIVER 'GeoJSON', SRS 'EPSG:4326');\n"
   ]
  },
  {
   "cell_type": "markdown",
   "id": "87a2456b-6739-4cdb-ba06-103f4f29371d",
   "metadata": {},
   "source": [
    "### Download POIs - Overture\n",
    "\n",
    "Downloaded as 'data/london_places_overture.geojson''"
   ]
  },
  {
   "cell_type": "code",
   "execution_count": null,
   "id": "8b854148-791c-4f55-8b81-e55ee1ed6b51",
   "metadata": {},
   "outputs": [],
   "source": [
    "%%sql\n",
    "\n",
    "COPY (\n",
    "    SELECT\n",
    "        names.primary AS name,\n",
    "        categories.main as category,\n",
    "        ROUND(confidence,2) as confidence,\n",
    "        ST_GeomFromWKB(geometry) as geometry\n",
    "FROM read_parquet('s3://overturemaps-us-west-2/release/2024-05-16-beta.0/theme=places/*/*')\n",
    "WHERE\n",
    "    bbox.xmin BETWEEN -0.5103751 AND 0.3340155 AND\n",
    "    bbox.ymin BETWEEN 51.2867601 AND 51.6918741\n",
    ") TO 'data/overture_data/london_places_overture.geojson' WITH (FORMAT GDAL, DRIVER 'GeoJSON', SRS 'EPSG:4326');"
   ]
  },
  {
   "cell_type": "markdown",
   "id": "ea250d9c-c829-48cd-b848-1a0548d902c2",
   "metadata": {},
   "source": [
    "### Overture Download Stats"
   ]
  },
  {
   "cell_type": "code",
   "execution_count": 18,
   "id": "11aabcc2-ef8f-4c90-99a6-e06add770aac",
   "metadata": {},
   "outputs": [
    {
     "name": "stdout",
     "output_type": "stream",
     "text": [
      "London Building Count: 61364\n",
      "London POI count: 343712\n"
     ]
    }
   ],
   "source": [
    "#Basic overview stats of London Data - Using the locally saved files here\n",
    "buildings = gpd.read_file('data/overture_data/london_buildings_overture.geojson')\n",
    "places = gpd.read_file('data/overture_data/london_places_overture.geojson')\n",
    "\n",
    "#Count of Features\n",
    "print(\"London Building Count: \" + str(buildings.shape[0]))\n",
    "print(\"London POI count: \" + str(places.shape[0]))"
   ]
  },
  {
   "cell_type": "markdown",
   "id": "bce83c93-6e2c-4673-9377-dc91d6669e19",
   "metadata": {},
   "source": [
    "### Download Buildings - OSM\n",
    "\n",
    "Downloaded as 'data/osmbuildings/building_footprints.geojson'"
   ]
  },
  {
   "cell_type": "raw",
   "id": "7512ef55-3fea-41c1-a7c2-969fe5604a48",
   "metadata": {},
   "source": [
    "#Download Data for 32 Boroughs (Exc. City of London)\n",
    "place_name = 'London, United Kingdom'\n",
    "\n",
    "#Test new config\n",
    "ox.config(use_cache=True, log_console=True)\n",
    "\n",
    "buildings = ox.features_from_place(place_name, tags={'building': True})\n",
    "buildings = buildings[buildings.geometry.notnull()]\n",
    "building_footprints = buildings[buildings.geom_type.isin(['Polygon', 'MultiPolygon'])]\n",
    "\n",
    "for col in building_footprints.columns:\n",
    "    if building_footprints.apply(lambda x: isinstance(x, list)).any():\n",
    "        building_footprints = building_footprints[col].apply(lambda x: str(x) if isinstance(x, list) else x)\n",
    "\n",
    "building_footprints = building_footprints[['name', 'geometry']].reset_index()\n",
    "print(building_footprints)\n",
    "        \n",
    "# Save the combined GeoDataFrame to a geojson file\n",
    "building_footprints.to_file(\"data/osm_data/boroughs_buildings.geojson\", driver=\"GeoJSON\")"
   ]
  },
  {
   "cell_type": "code",
   "execution_count": null,
   "id": "a6be029b-727c-4b96-81dc-37f6d7502a21",
   "metadata": {},
   "outputs": [],
   "source": [
    "#Add City of London\n",
    "place_name = 'City of London, England, United Kingdom'\n",
    "\n",
    "buildings_city = ox.features_from_place(place_name, tags={'building': True})\n",
    "buildings_city = buildings_city[buildings_city.geometry.notnull()]\n",
    "building_footprints_city = buildings_city[buildings_city.geom_type.isin(['Polygon', 'MultiPolygon'])]\n",
    "\n",
    "for col in building_footprints_city.columns:\n",
    "    if building_footprints_city.apply(lambda x: isinstance(x, list)).any():\n",
    "        building_footprints_city = building_footprints_city[col].apply(lambda x: str(x) if isinstance(x, list) else x)\n",
    "\n",
    "building_footprints_city = building_footprints_city[['name', 'geometry']].reset_index()\n",
    "\n",
    "building_footprints_combined = pd.concat([building_footprints, building_footprints_city], ignore_index=True)\n",
    "        \n",
    "# Save the combined GeoDataFrame to a geojson file\n",
    "building_footprints_combined.to_file(\"data/osm_data/all_london_buildings.geojson\", driver=\"GeoJSON\")"
   ]
  },
  {
   "cell_type": "markdown",
   "id": "8133bbd3-8b5c-4c72-aebe-82bd0c7bbd68",
   "metadata": {},
   "source": [
    "### Extract Building Type Info from OSM - Commercial"
   ]
  },
  {
   "cell_type": "code",
   "execution_count": 14,
   "id": "ae9b5389-7400-4811-85fe-63c76c8d906c",
   "metadata": {},
   "outputs": [
    {
     "name": "stderr",
     "output_type": "stream",
     "text": [
      "/var/folders/2b/877nyyk109x4dd8hgx4ckwl40000gn/T/ipykernel_97154/2147538755.py:5: UserWarning: The `utils.config` function is deprecated and will be removed in a future release. Instead, use the `settings` module directly to configure a global setting's value. For example, `ox.settings.log_console=True`.\n",
      "  ox.config(use_cache=True, log_console=True)\n"
     ]
    },
    {
     "name": "stdout",
     "output_type": "stream",
     "text": [
      "     element_type     osmid                      name  \\\n",
      "0             way   4076571  Bromley Road Retail Park   \n",
      "1             way   4076587   Catford Delivery Office   \n",
      "2             way   5790535              Refuge House   \n",
      "3             way   5986754         One Canada Square   \n",
      "4             way   5987126                       NaN   \n",
      "...           ...       ...                       ...   \n",
      "5187     relation  13472609                Hyde House   \n",
      "5188     relation  13535999           Old Guy's House   \n",
      "5189     relation  15685271                       NaN   \n",
      "5190     relation  15761586               China Works   \n",
      "5191     relation  16030676           Camelford House   \n",
      "\n",
      "                                               geometry  \n",
      "0     POLYGON ((-0.02063 51.43669, -0.02047 51.43631...  \n",
      "1     POLYGON ((-0.02001 51.43859, -0.02004 51.43865...  \n",
      "2     POLYGON ((-0.07800 51.65301, -0.07777 51.65303...  \n",
      "3     POLYGON ((-0.02002 51.50477, -0.01996 51.50500...  \n",
      "4     POLYGON ((-0.02588 51.50520, -0.02596 51.50531...  \n",
      "...                                                 ...  \n",
      "5187  POLYGON ((-0.24791 51.58466, -0.24819 51.58463...  \n",
      "5188  POLYGON ((-0.08848 51.50427, -0.08855 51.50430...  \n",
      "5189  POLYGON ((0.04764 51.49269, 0.04763 51.49272, ...  \n",
      "5190  POLYGON ((-0.12087 51.49240, -0.12076 51.49252...  \n",
      "5191  POLYGON ((-0.12419 51.48808, -0.12421 51.48809...  \n",
      "\n",
      "[5192 rows x 4 columns]\n"
     ]
    }
   ],
   "source": [
    "#Download Data for 32 Boroughs (Exc. City of London)\n",
    "place_name = 'London, United Kingdom'\n",
    "\n",
    "commercial_buildings = ox.features_from_place(place_name, tags={'building': ['commercial']})\n",
    "\n",
    "commercial_buildings = commercial_buildings[commercial_buildings.geometry.notnull()]\n",
    "commercial_building_footprints = commercial_buildings[commercial_buildings.geom_type.isin(['Polygon', 'MultiPolygon'])]\n",
    "\n",
    "for col in commercial_building_footprints.columns:\n",
    "    if commercial_building_footprints.apply(lambda x: isinstance(x, list)).any():\n",
    "        commercial_building_footprints = commercial_building_footprints[col].apply(lambda x: str(x) if isinstance(x, list) else x)\n",
    "\n",
    "commercial_building_footprints = commercial_building_footprints[['name', 'geometry']].reset_index()\n",
    "print(commercial_building_footprints)\n",
    "        \n",
    "# Save the combined GeoDataFrame to a geojson file\n",
    "commercial_building_footprints.to_file(\"data/osm_data/boroughs_commercial_buildings.geojson\", driver=\"GeoJSON\")"
   ]
  },
  {
   "cell_type": "code",
   "execution_count": 20,
   "id": "52686def-0c1e-40e6-b21d-d9acf34ff9c2",
   "metadata": {},
   "outputs": [],
   "source": [
    "#Add City of London\n",
    "place_name = 'City of London, England, United Kingdom'\n",
    "\n",
    "commercial_buildings_city = ox.features_from_place(place_name, tags={'building': True})\n",
    "commercial_buildings_city = commercial_buildings_city[commercial_buildings_city.geometry.notnull()]\n",
    "commercial_building_footprints_city = commercial_buildings_city[commercial_buildings_city.geom_type.isin(['Polygon', 'MultiPolygon'])]\n",
    "\n",
    "for col in commercial_building_footprints_city.columns:\n",
    "    if commercial_building_footprints_city.apply(lambda x: isinstance(x, list)).any():\n",
    "        commercial_building_footprints_city = commercial_building_footprints_city[col].apply(lambda x: str(x) if isinstance(x, list) else x)\n",
    "\n",
    "commercial_building_footprints_city = commercial_building_footprints_city[['name', 'geometry']].reset_index()\n",
    "\n",
    "commercial_building_footprints_combined = pd.concat([commercial_building_footprints, commercial_building_footprints_city], ignore_index=True)\n",
    "        \n",
    "# Save the combined GeoDataFrame to a geojson file\n",
    "commercial_building_footprints_combined.to_file(\"data/osm_data/all_london_commercial_buildings.geojson\", driver=\"GeoJSON\")"
   ]
  },
  {
   "cell_type": "markdown",
   "id": "9afd05ea-1202-4295-bc2d-306404c3430f",
   "metadata": {},
   "source": [
    "### Extract Building Type Info from OSM - Office"
   ]
  },
  {
   "cell_type": "code",
   "execution_count": 22,
   "id": "b8e5b595-fb45-4432-b157-d80774191f38",
   "metadata": {},
   "outputs": [
    {
     "name": "stderr",
     "output_type": "stream",
     "text": [
      "/var/folders/2b/877nyyk109x4dd8hgx4ckwl40000gn/T/ipykernel_97154/1950022580.py:8: UserWarning: The `utils.config` function is deprecated and will be removed in a future release. Instead, use the `settings` module directly to configure a global setting's value. For example, `ox.settings.log_console=True`.\n",
      "  ox.config(use_cache=True, log_console=True)\n"
     ]
    },
    {
     "name": "stdout",
     "output_type": "stream",
     "text": [
      "     element_type     osmid                       name  \\\n",
      "0             way   4237383                        ITN   \n",
      "1             way   5251705                        NaN   \n",
      "2             way   5986805                    HSBC UK   \n",
      "3             way   5986920                       KPMG   \n",
      "4             way   5986929                   Barclays   \n",
      "...           ...       ...                        ...   \n",
      "1714     relation  12566775                        NaN   \n",
      "1715     relation  12581563                BBC Studios   \n",
      "1716     relation  14168517  The Featherstone Building   \n",
      "1717     relation  15690226                 The Hudson   \n",
      "1718     relation  16030675             Tintagel House   \n",
      "\n",
      "                                               geometry  \n",
      "0     POLYGON ((-0.11445 51.52304, -0.11478 51.52344...  \n",
      "1     POLYGON ((-0.23366 51.40761, -0.23281 51.40822...  \n",
      "2     POLYGON ((-0.01792 51.50522, -0.01794 51.50525...  \n",
      "3     POLYGON ((-0.01680 51.50508, -0.01663 51.50569...  \n",
      "4     POLYGON ((-0.01494 51.50486, -0.01493 51.50490...  \n",
      "...                                                 ...  \n",
      "1714  MULTIPOLYGON (((-0.19537 51.43412, -0.19557 51...  \n",
      "1715  POLYGON ((-0.22575 51.51111, -0.22567 51.51116...  \n",
      "1716  POLYGON ((-0.08883 51.52435, -0.08886 51.52452...  \n",
      "1717  POLYGON ((-0.12089 51.48630, -0.12133 51.48627...  \n",
      "1718  POLYGON ((-0.12360 51.48913, -0.12342 51.48911...  \n",
      "\n",
      "[1719 rows x 4 columns]\n"
     ]
    }
   ],
   "source": [
    "# Download Data for 32 Boroughs (Exc. City of London)\n",
    "place_name = 'London, United Kingdom'\n",
    "\n",
    "ox.config(use_cache=True, log_console=True)\n",
    "\n",
    "office_buildings = ox.features_from_place(place_name, tags={'building': ['office']})\n",
    "\n",
    "office_buildings = office_buildings[office_buildings.geometry.notnull()]\n",
    "office_building_footprints = office_buildings[office_buildings.geom_type.isin(['Polygon', 'MultiPolygon'])]\n",
    "\n",
    "for col in office_building_footprints.columns:\n",
    "    if office_building_footprints.apply(lambda x: isinstance(x, list)).any():\n",
    "        office_building_footprints[col] = office_building_footprints[col].apply(lambda x: str(x) if isinstance(x, list) else x)\n",
    "\n",
    "office_building_footprints = office_building_footprints[['name', 'geometry']].reset_index()\n",
    "print(office_building_footprints)\n",
    "        \n",
    "# Save the combined GeoDataFrame to a geojson file\n",
    "office_building_footprints.to_file(\"data/osm_data/boroughs_office_buildings.geojson\", driver=\"GeoJSON\")\n"
   ]
  },
  {
   "cell_type": "code",
   "execution_count": 24,
   "id": "2418dcbe-6796-4c61-9a1f-9e176863b564",
   "metadata": {},
   "outputs": [],
   "source": [
    "#Add City of London\n",
    "place_name = 'City of London, England, United Kingdom'\n",
    "\n",
    "office_buildings_city = ox.features_from_place(place_name, tags={'building': True})\n",
    "office_buildings_city = office_buildings_city[office_buildings_city.geometry.notnull()]\n",
    "office_building_footprints_city = office_buildings_city[office_buildings_city.geom_type.isin(['Polygon', 'MultiPolygon'])]\n",
    "\n",
    "for col in office_building_footprints_city.columns:\n",
    "    if office_building_footprints_city.apply(lambda x: isinstance(x, list)).any():\n",
    "        office_building_footprints_city = office_building_footprints_city[col].apply(lambda x: str(x) if isinstance(x, list) else x)\n",
    "\n",
    "office_building_footprints_city = office_building_footprints_city[['name', 'geometry']].reset_index()\n",
    "\n",
    "office_building_footprints_combined = pd.concat([office_building_footprints, office_building_footprints_city], ignore_index=True)\n",
    "        \n",
    "# Save the combined GeoDataFrame to a geojson file\n",
    "office_building_footprints_combined.to_file(\"data/osm_data/all_london_office_buildings.geojson\", driver=\"GeoJSON\")"
   ]
  },
  {
   "cell_type": "markdown",
   "id": "5a817b57-ac5e-4687-a205-4788d9805c9b",
   "metadata": {},
   "source": [
    "### Extract Building Type Info from OSM - Residential"
   ]
  },
  {
   "cell_type": "code",
   "execution_count": 27,
   "id": "8a6ae6d9-ac12-43c5-8e4a-b7d7c6d62bee",
   "metadata": {},
   "outputs": [
    {
     "name": "stderr",
     "output_type": "stream",
     "text": [
      "/var/folders/2b/877nyyk109x4dd8hgx4ckwl40000gn/T/ipykernel_97154/160667686.py:4: UserWarning: The `utils.config` function is deprecated and will be removed in a future release. Instead, use the `settings` module directly to configure a global setting's value. For example, `ox.settings.log_console=True`.\n",
      "  ox.config(use_cache=True, log_console=True)\n"
     ]
    },
    {
     "name": "stdout",
     "output_type": "stream",
     "text": [
      "      element_type     osmid            name  \\\n",
      "0              way   4948114    Kemble House   \n",
      "1              way   4948116  Kettleby House   \n",
      "2              way   4948118   Woolley House   \n",
      "3              way   5131193             NaN   \n",
      "4              way   5131194             NaN   \n",
      "...            ...       ...             ...   \n",
      "83761     relation  16389021     Birch House   \n",
      "83762     relation  16389022  Lansdell House   \n",
      "83763     relation  16847821             NaN   \n",
      "83764     relation  17193995             NaN   \n",
      "83765     relation  17729875             NaN   \n",
      "\n",
      "                                                geometry  \n",
      "0      POLYGON ((-0.10656 51.46576, -0.10645 51.46582...  \n",
      "1      POLYGON ((-0.10571 51.46618, -0.10559 51.46624...  \n",
      "2      POLYGON ((-0.10486 51.46659, -0.10473 51.46665...  \n",
      "3      POLYGON ((-0.19992 51.46981, -0.19992 51.46987...  \n",
      "4      POLYGON ((-0.19955 51.46940, -0.19955 51.46980...  \n",
      "...                                                  ...  \n",
      "83761  POLYGON ((-0.11482 51.45071, -0.11467 51.45072...  \n",
      "83762  POLYGON ((-0.11395 51.45046, -0.11398 51.45062...  \n",
      "83763  POLYGON ((-0.22846 51.48877, -0.22835 51.48882...  \n",
      "83764  POLYGON ((-0.06253 51.54154, -0.06251 51.54147...  \n",
      "83765  POLYGON ((0.17202 51.52897, 0.17193 51.52886, ...  \n",
      "\n",
      "[83766 rows x 4 columns]\n"
     ]
    }
   ],
   "source": [
    "# Download Data for 32 Boroughs (Exc. City of London)\n",
    "place_name = 'London, United Kingdom'\n",
    "\n",
    "ox.config(use_cache=True, log_console=True)\n",
    "\n",
    "residential_buildings = ox.features_from_place(place_name, tags={'building': ['residential']})\n",
    "\n",
    "residential_buildings = residential_buildings[residential_buildings.geometry.notnull()]\n",
    "residential_building_footprints = residential_buildings[residential_buildings.geom_type.isin(['Polygon', 'MultiPolygon'])]\n",
    "\n",
    "for col in residential_building_footprints.columns:\n",
    "    if residential_building_footprints.apply(lambda x: isinstance(x, list)).any():\n",
    "        residential_building_footprints[col] = residential_building_footprints[col].apply(lambda x: str(x) if isinstance(x, list) else x)\n",
    "\n",
    "residential_building_footprints = residential_building_footprints[['name', 'geometry']].reset_index()\n",
    "print(residential_building_footprints)\n",
    "        \n",
    "# Save the combined GeoDataFrame to a geojson file\n",
    "residential_building_footprints.to_file(\"data/osm_data/boroughs_residential_buildings.geojson\", driver=\"GeoJSON\")\n"
   ]
  },
  {
   "cell_type": "code",
   "execution_count": 29,
   "id": "e385675b-4490-49b1-a662-83b5d303190d",
   "metadata": {},
   "outputs": [],
   "source": [
    "#Add City of London\n",
    "place_name = 'City of London, England, United Kingdom'\n",
    "\n",
    "residential_buildings_city = ox.features_from_place(place_name, tags={'building': True})\n",
    "residential_buildings_city = residential_buildings_city[residential_buildings_city.geometry.notnull()]\n",
    "residential_building_footprints_city = residential_buildings_city[residential_buildings_city.geom_type.isin(['Polygon', 'MultiPolygon'])]\n",
    "\n",
    "for col in residential_building_footprints_city.columns:\n",
    "    if residential_building_footprints_city.apply(lambda x: isinstance(x, list)).any():\n",
    "        residential_building_footprints_city = residential_building_footprints_city[col].apply(lambda x: str(x) if isinstance(x, list) else x)\n",
    "\n",
    "residential_building_footprints_city = residential_building_footprints_city[['name', 'geometry']].reset_index()\n",
    "\n",
    "residential_building_footprints_combined = pd.concat([residential_building_footprints, residential_building_footprints_city], ignore_index=True)\n",
    "        \n",
    "# Save the combined GeoDataFrame to a geojson file\n",
    "residential_building_footprints_combined.to_file(\"data/osm_data/all_london_residential_buildings.geojson\", driver=\"GeoJSON\")"
   ]
  },
  {
   "cell_type": "markdown",
   "id": "2fda6637-6143-4191-a750-c3e82b6b43f1",
   "metadata": {},
   "source": [
    "### Extract Building Type Info from OSM - Retail"
   ]
  },
  {
   "cell_type": "code",
   "execution_count": null,
   "id": "3edefb4c-8cbe-4cf9-aee0-3cfe8ef56f34",
   "metadata": {},
   "outputs": [],
   "source": [
    "# Download Data for 32 Boroughs (Exc. City of London)\n",
    "place_name = 'London, United Kingdom'\n",
    "\n",
    "ox.config(use_cache=True, log_console=True)\n",
    "\n",
    "retail_buildings = ox.features_from_place(place_name, tags={'building': ['retail']})\n",
    "\n",
    "retail_buildings = retail_buildings[retail_buildings.geometry.notnull()]\n",
    "retail_building_footprints = retail_buildings[retail_buildings.geom_type.isin(['Polygon', 'MultiPolygon'])]\n",
    "\n",
    "for col in retail_building_footprints.columns:\n",
    "    if retail_building_footprints.apply(lambda x: isinstance(x, list)).any():\n",
    "        retail_building_footprints[col] = retail_building_footprints[col].apply(lambda x: str(x) if isinstance(x, list) else x)\n",
    "\n",
    "retail_building_footprints = retail_building_footprints[['name', 'geometry']].reset_index()\n",
    "print(retail_building_footprints)\n",
    "        \n",
    "# Save the combined GeoDataFrame to a geojson file\n",
    "retail_building_footprints.to_file(\"data/osm_data/boroughs_retail_buildings.geojson\", driver=\"GeoJSON\")\n"
   ]
  },
  {
   "cell_type": "code",
   "execution_count": null,
   "id": "498bd209-1aaf-43d5-a389-220844f2ba18",
   "metadata": {},
   "outputs": [],
   "source": [
    "#Add City of London\n",
    "place_name = 'City of London, England, United Kingdom'\n",
    "\n",
    "retail_buildings_city = ox.features_from_place(place_name, tags={'building': True})\n",
    "retail_buildings_city = retail_buildings_city[retail_buildings_city.geometry.notnull()]\n",
    "retail_building_footprints_city = retail_buildings_city[retail_buildings_city.geom_type.isin(['Polygon', 'MultiPolygon'])]\n",
    "\n",
    "for col in retail_building_footprints_city.columns:\n",
    "    if retail_building_footprints_city.apply(lambda x: isinstance(x, list)).any():\n",
    "        retail_building_footprints_city = retail_building_footprints_city[col].apply(lambda x: str(x) if isinstance(x, list) else x)\n",
    "\n",
    "retail_building_footprints_city = retail_building_footprints_city[['name', 'geometry']].reset_index()\n",
    "\n",
    "retail_building_footprints_combined = pd.concat([retail_building_footprints, retail_building_footprints_city], ignore_index=True)\n",
    "        \n",
    "# Save the combined GeoDataFrame to a geojson file\n",
    "retail_building_footprints_combined.to_file(\"data/osm_data/all_london_retail_buildings.geojson\", driver=\"GeoJSON\")"
   ]
  }
 ],
 "metadata": {
  "kernelspec": {
   "display_name": "urbsim",
   "language": "python",
   "name": "urbsim"
  },
  "language_info": {
   "codemirror_mode": {
    "name": "ipython",
    "version": 3
   },
   "file_extension": ".py",
   "mimetype": "text/x-python",
   "name": "python",
   "nbconvert_exporter": "python",
   "pygments_lexer": "ipython3",
   "version": "3.11.7"
  }
 },
 "nbformat": 4,
 "nbformat_minor": 5
}
