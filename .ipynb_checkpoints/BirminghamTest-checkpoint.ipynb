{
 "cells": [
  {
   "cell_type": "markdown",
   "id": "528b9928-7b86-4dcf-a856-a7d2013f781e",
   "metadata": {},
   "source": [
    "# Test Full Code with Birmingham\n",
    "### Gavin Rolls\n",
    "\n",
    "This notebook will be a compilation of the methods I've applied to London as my area of study and attempt to recreate the model in Birmingham"
   ]
  },
  {
   "cell_type": "markdown",
   "id": "f959233a-e393-48b8-82df-ea3d06821a3c",
   "metadata": {},
   "source": [
    "# Data Collection"
   ]
  },
  {
   "cell_type": "markdown",
   "id": "92422da7-8800-4879-b615-a657c31aa3d7",
   "metadata": {},
   "source": [
    "### Imports + Database Configuration"
   ]
  },
  {
   "cell_type": "code",
   "execution_count": 2,
   "id": "de4c8543-459b-4499-8993-204b485d9a82",
   "metadata": {},
   "outputs": [],
   "source": [
    "#Library Imports - using DuckDB for Overture Import\n",
    "\n",
    "#Database\n",
    "import duckdb\n",
    "\n",
    "#Basics\n",
    "import pandas as pd\n",
    "import geopandas as gpd\n",
    "from geopy.geocoders import Nominatim\n",
    "\n",
    "#OpenStreetMap\n",
    "import osmnx as ox"
   ]
  },
  {
   "cell_type": "code",
   "execution_count": 3,
   "id": "e265bd51-0a0e-4e10-a20b-999eebd18587",
   "metadata": {},
   "outputs": [
    {
     "name": "stdout",
     "output_type": "stream",
     "text": [
      "Note: you may need to restart the kernel to use updated packages.\n",
      "Note: you may need to restart the kernel to use updated packages.\n"
     ]
    }
   ],
   "source": [
    "#Config SQL\n",
    "%pip install ipython-sql duckdb duckdb-engine jupysql --quiet\n",
    "%pip install --upgrade grpcio --quiet\n",
    "%load_ext sql"
   ]
  },
  {
   "cell_type": "code",
   "execution_count": 5,
   "id": "1d8b24b9-741a-4427-9f6d-83ca43b6bf5e",
   "metadata": {},
   "outputs": [],
   "source": [
    "%config SqlMagic.autopandas = True\n",
    "%config SqlMagic.feedback = False\n",
    "%config SqlMagic.displaycon = False\n",
    "%sql duckdb:///:memory:"
   ]
  },
  {
   "cell_type": "code",
   "execution_count": 6,
   "id": "0d2b9f16-aa88-44ea-94a7-21b510d59adb",
   "metadata": {},
   "outputs": [
    {
     "data": {
      "text/html": [
       "<div>\n",
       "<style scoped>\n",
       "    .dataframe tbody tr th:only-of-type {\n",
       "        vertical-align: middle;\n",
       "    }\n",
       "\n",
       "    .dataframe tbody tr th {\n",
       "        vertical-align: top;\n",
       "    }\n",
       "\n",
       "    .dataframe thead th {\n",
       "        text-align: right;\n",
       "    }\n",
       "</style>\n",
       "<table border=\"1\" class=\"dataframe\">\n",
       "  <thead>\n",
       "    <tr style=\"text-align: right;\">\n",
       "      <th></th>\n",
       "      <th>Success</th>\n",
       "    </tr>\n",
       "  </thead>\n",
       "  <tbody>\n",
       "  </tbody>\n",
       "</table>\n",
       "</div>"
      ],
      "text/plain": [
       "Empty DataFrame\n",
       "Columns: [Success]\n",
       "Index: []"
      ]
     },
     "execution_count": 6,
     "metadata": {},
     "output_type": "execute_result"
    }
   ],
   "source": [
    "%%sql      \n",
    "INSTALL httpfs;\n",
    "\n",
    "LOAD httpfs;\n",
    "\n",
    "INSTALL spatial;\n",
    "\n",
    "LOAD spatial;\n",
    "\n",
    "SET s3_region='us-west-2';"
   ]
  },
  {
   "cell_type": "markdown",
   "id": "3e7a6dbe-402d-408d-8f8a-def4ca456b65",
   "metadata": {},
   "source": [
    "### Download Buildings - Overture\n",
    "\n",
    "Downloaded as 'data/bham_buildings_overture.geojson'"
   ]
  },
  {
   "cell_type": "code",
   "execution_count": 12,
   "id": "fbaedb95-6cae-4245-8e75-d070fba8d75e",
   "metadata": {},
   "outputs": [
    {
     "name": "stdout",
     "output_type": "stream",
     "text": [
      "-2.0336486\n",
      "52.381053\n",
      "-1.7288417\n",
      "52.6087058\n"
     ]
    }
   ],
   "source": [
    "#Get Birmingham Bounding Box\n",
    "\n",
    "# Initialize the geolocator\n",
    "geolocator = Nominatim(user_agent=\"geoapi\")\n",
    "\n",
    "# Get location data\n",
    "location = geolocator.geocode(\"Birmingham\")\n",
    "\n",
    "# Get the bounding box\n",
    "bounding_box = location.raw['boundingbox']\n",
    "\n",
    "# Convert bounding box to coordinates\n",
    "min_lat, max_lat = float(bounding_box[0]), float(bounding_box[1])\n",
    "min_lon, max_lon = float(bounding_box[2]), float(bounding_box[3])\n",
    "\n",
    "print(min_lon)\n",
    "print(min_lat)\n",
    "print(max_lon)\n",
    "print(max_lat)"
   ]
  },
  {
   "cell_type": "code",
   "execution_count": null,
   "id": "2f922136-eecf-4d25-9c07-9d0c0a3c7ca6",
   "metadata": {},
   "outputs": [],
   "source": [
    "%%sql\n",
    "\n",
    "LOAD azure;\n",
    "\n",
    "SET azure_storage_connection_string = 'DefaultEndpointsProtocol=https;AccountName=overturemapswestus2;AccountKey=;EndpointSuffix=core.windows.net';\n",
    "COPY (\n",
    "SELECT\n",
    "    names.primary as primary_name,\n",
    "    height,\n",
    "    level,\n",
    "    ST_GeomFromWKB(geometry) as geometry\n",
    "FROM read_parquet('azure://release/2024-05-16-beta.0/theme=buildings/type=building/*', filename=true, hive_partitioning=1)\n",
    "WHERE primary_name IS NOT NULL\n",
    "AND bbox.xmin > -2.0336486\n",
    "AND bbox.xmax < -1.7288417\n",
    "AND bbox.ymin > 52.381053\n",
    "AND bbox.ymax < 52.6087058\n",
    ") TO 'data/overture_data/bham_buildings_overture.geojson'\n",
    "WITH (FORMAT GDAL, DRIVER 'GeoJSON', SRS 'EPSG:4326');\n"
   ]
  },
  {
   "cell_type": "markdown",
   "id": "9f1e1461-a53e-494f-af02-bfd499faf386",
   "metadata": {},
   "source": [
    "### Download POIs - Overture\n",
    "\n",
    "Downloaded as 'data/bham_places_overture.geojson''"
   ]
  },
  {
   "cell_type": "code",
   "execution_count": null,
   "id": "05eda1c9-e2b4-4dc0-9666-9c4fda97a4d9",
   "metadata": {},
   "outputs": [],
   "source": [
    "%%sql\n",
    "\n",
    "COPY (\n",
    "    SELECT\n",
    "        names.primary AS name,\n",
    "        categories.main as category,\n",
    "        ROUND(confidence,2) as confidence,\n",
    "        ST_GeomFromWKB(geometry) as geometry\n",
    "FROM read_parquet('s3://overturemaps-us-west-2/release/2024-05-16-beta.0/theme=places/*/*')\n",
    "WHERE\n",
    "    bbox.xmin BETWEEN -2.0336486 AND -1.7288417 AND\n",
    "    bbox.ymin BETWEEN 52.381053 AND 52.6087058\n",
    ") TO 'data/overture_data/bham_places_overture.geojson' WITH (FORMAT GDAL, DRIVER 'GeoJSON', SRS 'EPSG:4326');"
   ]
  },
  {
   "cell_type": "markdown",
   "id": "ff8a9b3e-5bdc-4920-81ea-a8e3ed95ce0d",
   "metadata": {},
   "source": [
    "### Overture Download Stats"
   ]
  },
  {
   "cell_type": "code",
   "execution_count": null,
   "id": "387d40d1-9fa5-4235-b31e-2f57732d966d",
   "metadata": {},
   "outputs": [],
   "source": [
    "#Basic overview stats of Birmingham Data - Using the locally saved files here\n",
    "buildings = gpd.read_file('data/overture_data/bham_buildings_overture.geojson')\n",
    "places = gpd.read_file('data/overture_data/bham_places_overture.geojson')\n",
    "\n",
    "#Count of Features\n",
    "print(\"Birmingham Building Count: \" + str(buildings.shape[0]))\n",
    "print(\"Birmingham POI count: \" + str(places.shape[0]))"
   ]
  },
  {
   "cell_type": "markdown",
   "id": "6d50a230-1d6c-4876-9777-6b81a19b30f8",
   "metadata": {},
   "source": [
    "### Download Buildings - OSM\n",
    "\n",
    "Downloaded as 'data/osmbuildings/building_footprints.geojson'"
   ]
  },
  {
   "cell_type": "code",
   "execution_count": null,
   "id": "cc54fc8c-bd46-428f-b895-eabdb81e7597",
   "metadata": {},
   "outputs": [],
   "source": [
    "#Download Data for Birmingham\n",
    "place_name = 'Birmingham, United Kingdom'\n",
    "\n",
    "#Test new config\n",
    "ox.config(use_cache=True, log_console=True)\n",
    "\n",
    "buildings = ox.features_from_place(place_name, tags={'building': True})\n",
    "buildings = buildings[buildings.geometry.notnull()]\n",
    "building_footprints = buildings[buildings.geom_type.isin(['Polygon', 'MultiPolygon'])]\n",
    "\n",
    "for col in building_footprints.columns:\n",
    "    if building_footprints.apply(lambda x: isinstance(x, list)).any():\n",
    "        building_footprints = building_footprints[col].apply(lambda x: str(x) if isinstance(x, list) else x)\n",
    "\n",
    "building_footprints = building_footprints[['name', 'geometry']].reset_index()\n",
    "print(building_footprints)\n",
    "        \n",
    "# Save the combined GeoDataFrame to a geojson file\n",
    "building_footprints.to_file(\"data/osm_data/bham_buildings.geojson\", driver=\"GeoJSON\")"
   ]
  },
  {
   "cell_type": "markdown",
   "id": "6fff8d21-84f7-4991-bfbd-bcde56e5dc77",
   "metadata": {},
   "source": [
    "### Extract Building Type Info from OSM - Commercial"
   ]
  },
  {
   "cell_type": "code",
   "execution_count": null,
   "id": "9436dfc4-e6bc-4972-a433-f911edbbb74c",
   "metadata": {},
   "outputs": [],
   "source": [
    "#Download Data for Birmingham\n",
    "place_name = 'Birmingham, United Kingdom'\n",
    "\n",
    "commercial_buildings = ox.features_from_place(place_name, tags={'building': ['commercial']})\n",
    "\n",
    "commercial_buildings = commercial_buildings[commercial_buildings.geometry.notnull()]\n",
    "commercial_building_footprints = commercial_buildings[commercial_buildings.geom_type.isin(['Polygon', 'MultiPolygon'])]\n",
    "\n",
    "for col in commercial_building_footprints.columns:\n",
    "    if commercial_building_footprints.apply(lambda x: isinstance(x, list)).any():\n",
    "        commercial_building_footprints = commercial_building_footprints[col].apply(lambda x: str(x) if isinstance(x, list) else x)\n",
    "\n",
    "commercial_building_footprints = commercial_building_footprints[['name', 'geometry']].reset_index()\n",
    "print(commercial_building_footprints)\n",
    "        \n",
    "# Save the combined GeoDataFrame to a geojson file\n",
    "commercial_building_footprints.to_file(\"data/osm_data/bham_commercial_buildings.geojson\", driver=\"GeoJSON\")"
   ]
  },
  {
   "cell_type": "markdown",
   "id": "db38dfb2-2db4-4c75-b03d-2602c729ddb9",
   "metadata": {},
   "source": [
    "### Extract Building Type Info from OSM - Office"
   ]
  },
  {
   "cell_type": "code",
   "execution_count": null,
   "id": "b95917ed-28c6-41f2-a474-6d945a48f2fb",
   "metadata": {},
   "outputs": [],
   "source": [
    "#Download Data for Birmingham\n",
    "place_name = 'Birmingham, United Kingdom'\n",
    "\n",
    "ox.config(use_cache=True, log_console=True)\n",
    "\n",
    "office_buildings = ox.features_from_place(place_name, tags={'building': ['office']})\n",
    "\n",
    "office_buildings = office_buildings[office_buildings.geometry.notnull()]\n",
    "office_building_footprints = office_buildings[office_buildings.geom_type.isin(['Polygon', 'MultiPolygon'])]\n",
    "\n",
    "for col in office_building_footprints.columns:\n",
    "    if office_building_footprints.apply(lambda x: isinstance(x, list)).any():\n",
    "        office_building_footprints[col] = office_building_footprints[col].apply(lambda x: str(x) if isinstance(x, list) else x)\n",
    "\n",
    "office_building_footprints = office_building_footprints[['name', 'geometry']].reset_index()\n",
    "print(office_building_footprints)\n",
    "        \n",
    "# Save the combined GeoDataFrame to a geojson file\n",
    "office_building_footprints.to_file(\"data/osm_data/bham_office_buildings.geojson\", driver=\"GeoJSON\")\n"
   ]
  },
  {
   "cell_type": "markdown",
   "id": "791ce649-0ef4-40e6-83de-3450ce3f9bcc",
   "metadata": {},
   "source": [
    "### Extract Building Type Info from OSM - Residential"
   ]
  },
  {
   "cell_type": "code",
   "execution_count": null,
   "id": "bb49a712-598f-463c-87a7-7d7d82e8c559",
   "metadata": {},
   "outputs": [],
   "source": [
    "#Download Data for Birmingham\n",
    "place_name = 'Birmingham, United Kingdom'\n",
    "\n",
    "ox.config(use_cache=True, log_console=True)\n",
    "\n",
    "residential_buildings = ox.features_from_place(place_name, tags={'building': ['residential']})\n",
    "\n",
    "residential_buildings = residential_buildings[residential_buildings.geometry.notnull()]\n",
    "residential_building_footprints = residential_buildings[residential_buildings.geom_type.isin(['Polygon', 'MultiPolygon'])]\n",
    "\n",
    "for col in residential_building_footprints.columns:\n",
    "    if residential_building_footprints.apply(lambda x: isinstance(x, list)).any():\n",
    "        residential_building_footprints[col] = residential_building_footprints[col].apply(lambda x: str(x) if isinstance(x, list) else x)\n",
    "\n",
    "residential_building_footprints = residential_building_footprints[['name', 'geometry']].reset_index()\n",
    "print(residential_building_footprints)\n",
    "        \n",
    "# Save the combined GeoDataFrame to a geojson file\n",
    "residential_building_footprints.to_file(\"data/osm_data/bham_residential_buildings.geojson\", driver=\"GeoJSON\")\n"
   ]
  },
  {
   "cell_type": "markdown",
   "id": "392db1b4-f2dd-4ba1-aa5b-9eb2a466b14d",
   "metadata": {},
   "source": [
    "### Extract Building Type Info from OSM - Retail"
   ]
  },
  {
   "cell_type": "code",
   "execution_count": null,
   "id": "38280028-0e87-4308-9854-4c52ae9d010b",
   "metadata": {},
   "outputs": [],
   "source": [
    "#Download Data for Birmingham\n",
    "place_name = 'Birmingham, United Kingdom'\n",
    "\n",
    "ox.config(use_cache=True, log_console=True)\n",
    "\n",
    "retail_buildings = ox.features_from_place(place_name, tags={'building': ['retail']})\n",
    "\n",
    "retail_buildings = retail_buildings[retail_buildings.geometry.notnull()]\n",
    "retail_building_footprints = retail_buildings[retail_buildings.geom_type.isin(['Polygon', 'MultiPolygon'])]\n",
    "\n",
    "for col in retail_building_footprints.columns:\n",
    "    if retail_building_footprints.apply(lambda x: isinstance(x, list)).any():\n",
    "        retail_building_footprints[col] = retail_building_footprints[col].apply(lambda x: str(x) if isinstance(x, list) else x)\n",
    "\n",
    "retail_building_footprints = retail_building_footprints[['name', 'geometry']].reset_index()\n",
    "print(retail_building_footprints)\n",
    "        \n",
    "# Save the combined GeoDataFrame to a geojson file\n",
    "retail_building_footprints.to_file(\"data/osm_data/bham_retail_buildings.geojson\", driver=\"GeoJSON\")\n"
   ]
  },
  {
   "cell_type": "markdown",
   "id": "afa76fec-925f-45c9-89db-6b6039d7ecac",
   "metadata": {},
   "source": [
    "# Data Cleaning\n",
    "### Taken from v2"
   ]
  },
  {
   "cell_type": "code",
   "execution_count": null,
   "id": "f8ebbb7c-2e24-4cc1-a668-8e9c841008fe",
   "metadata": {},
   "outputs": [],
   "source": []
  }
 ],
 "metadata": {
  "kernelspec": {
   "display_name": "urbsim",
   "language": "python",
   "name": "urbsim"
  },
  "language_info": {
   "codemirror_mode": {
    "name": "ipython",
    "version": 3
   },
   "file_extension": ".py",
   "mimetype": "text/x-python",
   "name": "python",
   "nbconvert_exporter": "python",
   "pygments_lexer": "ipython3",
   "version": "3.11.7"
  }
 },
 "nbformat": 4,
 "nbformat_minor": 5
}
