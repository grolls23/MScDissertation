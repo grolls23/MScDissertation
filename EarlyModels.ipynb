{
 "cells": [
  {
   "cell_type": "markdown",
   "id": "e1b2bf4b-aa91-44be-9ff5-931b6a4d05e0",
   "metadata": {},
   "source": [
    "## Dissertation Early Modelling\n",
    "### Gavin Rolls\n",
    "\n",
    "Migrated from OvertureTest.ipynb. I've queried all of my Overture and OSM data in DataCollection.ipynb and done the initial cleaning in DataCleaning.ipynb. This document is dedicated running some early iterations of employment models"
   ]
  },
  {
   "cell_type": "code",
   "execution_count": 10,
   "id": "10ef7f21-4cb9-4f72-bd0f-76aa28ccda8b",
   "metadata": {},
   "outputs": [],
   "source": [
    "#Library Imports\n",
    "\n",
    "#Basics\n",
    "import pandas as pd\n",
    "import geopandas as gpd\n",
    "\n",
    "#Machine Learning\n",
    "from sklearn.model_selection import train_test_split\n",
    "from sklearn.ensemble import RandomForestRegressor\n",
    "from sklearn.linear_model import LinearRegression\n",
    "from sklearn.metrics import mean_squared_error, r2_score\n",
    "from sklearn.preprocessing import OneHotEncoder\n",
    "\n",
    "#Spatial Indexing\n",
    "import h3"
   ]
  },
  {
   "cell_type": "code",
   "execution_count": null,
   "id": "c0976d7d-62c4-4c8e-9a84-a892c77986d9",
   "metadata": {},
   "outputs": [],
   "source": [
    "#Import Cleaned Dataset\n",
    "\n",
    "empl_geog = gpd.read_file('data/combined_data/empl_geog.geojson')\n",
    "\n",
    "empl_geog.head()"
   ]
  },
  {
   "cell_type": "markdown",
   "id": "60aebe3c-cdb3-466f-9842-c0bd6f3e0933",
   "metadata": {},
   "source": [
    "## Basic Models"
   ]
  },
  {
   "cell_type": "markdown",
   "id": "24981fcd-a091-46c3-b822-80e23c468f04",
   "metadata": {},
   "source": [
    "### Basic Model - Feature Counts (Overture) + Population Only"
   ]
  },
  {
   "cell_type": "code",
   "execution_count": 14,
   "id": "94414297-0168-459d-9606-af13d7a1bfb2",
   "metadata": {},
   "outputs": [
    {
     "name": "stdout",
     "output_type": "stream",
     "text": [
      "Mean Squared Error: 4460587.330033497\n",
      "R^2 Score: 0.31047839937648836\n"
     ]
    }
   ],
   "source": [
    "#Before incorporating any more data into my model, I want to see how well COUNTS alone can predict employment at LSOA level\n",
    "\n",
    "#Identifying variables (feature variables vs target to predict)\n",
    "features = ['num_overture_buildings', 'num_places', 'population']\n",
    "target = 'total'\n",
    "\n",
    "X = empl_geog[features]\n",
    "y = empl_geog[target]\n",
    "\n",
    "#Split into train/test - I know I need to make this spatially sensitive but we're just going with this for now\n",
    "X_train, X_test, y_train, y_test = train_test_split(X, y, test_size=0.2, random_state=42)\n",
    "\n",
    "#Init/train model\n",
    "model = LinearRegression()\n",
    "model.fit(X_train, y_train)\n",
    "\n",
    "#Predictions\n",
    "y_pred = model.predict(X_test)\n",
    "\n",
    "#Evaluation\n",
    "mse = mean_squared_error(y_test, y_pred)\n",
    "r2 = r2_score(y_test, y_pred)\n",
    "\n",
    "print(f\"Mean Squared Error: {mse}\")\n",
    "print(f\"R^2 Score: {r2}\")"
   ]
  },
  {
   "cell_type": "markdown",
   "id": "709a6ea8-1630-4fd5-855e-e5070eda69cb",
   "metadata": {},
   "source": [
    "### Basic Model - Feature Counts (OSM) + Population Only"
   ]
  },
  {
   "cell_type": "code",
   "execution_count": null,
   "id": "44e570c5-b4a5-41ed-801f-439f1be4a772",
   "metadata": {},
   "outputs": [],
   "source": []
  }
 ],
 "metadata": {
  "kernelspec": {
   "display_name": "urbsim",
   "language": "python",
   "name": "urbsim"
  },
  "language_info": {
   "codemirror_mode": {
    "name": "ipython",
    "version": 3
   },
   "file_extension": ".py",
   "mimetype": "text/x-python",
   "name": "python",
   "nbconvert_exporter": "python",
   "pygments_lexer": "ipython3",
   "version": "3.11.7"
  }
 },
 "nbformat": 4,
 "nbformat_minor": 5
}
