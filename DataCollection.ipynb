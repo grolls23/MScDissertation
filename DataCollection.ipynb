{
 "cells": [
  {
   "cell_type": "markdown",
   "id": "b4fe203d-9069-4397-9474-016cef76d9e9",
   "metadata": {},
   "source": [
    "## Dissertation Data Collection\n",
    "### Gavin Rolls\n",
    "\n",
    "Migrated from OvertureTest.ipynb, these are the queries I used to save OSM and Overture data locally for Greater London. Because it's easier to grab the data I need from my desktop as opposed to running these queries every time I need data, I'm leaving them here"
   ]
  },
  {
   "cell_type": "code",
   "execution_count": 8,
   "id": "3fd114ac-a686-4b11-af09-e86767017811",
   "metadata": {},
   "outputs": [],
   "source": [
    "#Library Imports - using DuckDB for Overture Import\n",
    "\n",
    "#Database\n",
    "import duckdb\n",
    "\n",
    "#Basics\n",
    "import pandas as pd\n",
    "import geopandas as gpd\n",
    "\n",
    "#Shapely\n",
    "from geopy.geocoders import Nominatim\n",
    "from shapely.geometry import box\n",
    "from shapely import wkt\n",
    "from shapely.geometry import Polygon, MultiPolygon\n",
    "from shapely.geometry import mapping\n",
    "from shapely.geometry import shape\n",
    "\n",
    "#OpenStreetMap\n",
    "import osmnx as ox\n",
    "\n",
    "#Warning Supression\n",
    "import warnings"
   ]
  },
  {
   "cell_type": "code",
   "execution_count": 10,
   "id": "4f670070-15c0-445c-a286-ff0fa0f488f3",
   "metadata": {},
   "outputs": [
    {
     "name": "stdout",
     "output_type": "stream",
     "text": [
      "Note: you may need to restart the kernel to use updated packages.\n",
      "Note: you may need to restart the kernel to use updated packages.\n"
     ]
    }
   ],
   "source": [
    "#Config SQL\n",
    "%pip install ipython-sql duckdb duckdb-engine jupysql --quiet\n",
    "%pip install --upgrade grpcio --quiet\n",
    "%load_ext sql"
   ]
  },
  {
   "cell_type": "code",
   "execution_count": 11,
   "id": "97d3432b-4a0a-4cd5-9153-bd87ea16a53d",
   "metadata": {},
   "outputs": [],
   "source": [
    "%config SqlMagic.autopandas = True\n",
    "%config SqlMagic.feedback = False\n",
    "%config SqlMagic.displaycon = False\n",
    "%sql duckdb:///:memory:"
   ]
  },
  {
   "cell_type": "code",
   "execution_count": 12,
   "id": "26623165-e100-4c80-b2be-95ef4b967bee",
   "metadata": {},
   "outputs": [
    {
     "data": {
      "text/html": [
       "<div>\n",
       "<style scoped>\n",
       "    .dataframe tbody tr th:only-of-type {\n",
       "        vertical-align: middle;\n",
       "    }\n",
       "\n",
       "    .dataframe tbody tr th {\n",
       "        vertical-align: top;\n",
       "    }\n",
       "\n",
       "    .dataframe thead th {\n",
       "        text-align: right;\n",
       "    }\n",
       "</style>\n",
       "<table border=\"1\" class=\"dataframe\">\n",
       "  <thead>\n",
       "    <tr style=\"text-align: right;\">\n",
       "      <th></th>\n",
       "      <th>Success</th>\n",
       "    </tr>\n",
       "  </thead>\n",
       "  <tbody>\n",
       "  </tbody>\n",
       "</table>\n",
       "</div>"
      ],
      "text/plain": [
       "Empty DataFrame\n",
       "Columns: [Success]\n",
       "Index: []"
      ]
     },
     "execution_count": 12,
     "metadata": {},
     "output_type": "execute_result"
    }
   ],
   "source": [
    "%%sql      \n",
    "INSTALL httpfs;\n",
    "\n",
    "LOAD httpfs;\n",
    "\n",
    "INSTALL spatial;\n",
    "\n",
    "LOAD spatial;\n",
    "\n",
    "SET s3_region='us-west-2';"
   ]
  },
  {
   "cell_type": "markdown",
   "id": "927059a1-31ba-41c5-b231-5e1b7e8b6a18",
   "metadata": {},
   "source": [
    "### Download Buildings - Overture\n",
    "\n",
    "Downloaded as 'data/london_buildings_overture.geojson'"
   ]
  },
  {
   "cell_type": "code",
   "execution_count": 16,
   "id": "1d26488e-f0c7-453a-b5ff-33b404f98af6",
   "metadata": {},
   "outputs": [
    {
     "name": "stdout",
     "output_type": "stream",
     "text": [
      "-0.5103751\n",
      "51.2867601\n",
      "0.3340155\n",
      "51.6918741\n"
     ]
    }
   ],
   "source": [
    "#Get London Bounding Box\n",
    "\n",
    "# Initialize the geolocator\n",
    "geolocator = Nominatim(user_agent=\"geoapi\")\n",
    "\n",
    "# Get location data\n",
    "location = geolocator.geocode(\"London\")\n",
    "\n",
    "# Get the bounding box\n",
    "bounding_box = location.raw['boundingbox']\n",
    "\n",
    "# Convert bounding box to coordinates\n",
    "min_lat, max_lat = float(bounding_box[0]), float(bounding_box[1])\n",
    "min_lon, max_lon = float(bounding_box[2]), float(bounding_box[3])\n",
    "\n",
    "print(min_lon)\n",
    "print(min_lat)\n",
    "print(max_lon)\n",
    "print(max_lat)"
   ]
  },
  {
   "cell_type": "code",
   "execution_count": null,
   "id": "b4c8e938-995b-4e1f-bd62-f72fd9779626",
   "metadata": {},
   "outputs": [],
   "source": [
    "%%sql\n",
    "\n",
    "LOAD azure;\n",
    "\n",
    "SET azure_storage_connection_string = 'DefaultEndpointsProtocol=https;AccountName=overturemapswestus2;AccountKey=;EndpointSuffix=core.windows.net';\n",
    "COPY (\n",
    "SELECT\n",
    "    names.primary as primary_name,\n",
    "    height,\n",
    "    level,\n",
    "    ST_GeomFromWKB(geometry) as geometry\n",
    "FROM read_parquet('azure://release/2024-05-16-beta.0/theme=buildings/type=building/*', filename=true, hive_partitioning=1)\n",
    "WHERE primary_name IS NOT NULL\n",
    "AND bbox.xmin > -0.5103751\n",
    "AND bbox.xmax < 0.3340155\n",
    "AND bbox.ymin > 51.2867601\n",
    "AND bbox.ymax < 51.6918741\n",
    ") TO 'data/overture_data/london_buildings_overture.geojson'\n",
    "WITH (FORMAT GDAL, DRIVER 'GeoJSON', SRS 'EPSG:4326');\n"
   ]
  },
  {
   "cell_type": "markdown",
   "id": "87a2456b-6739-4cdb-ba06-103f4f29371d",
   "metadata": {},
   "source": [
    "### Download POIs - Overture\n",
    "\n",
    "Downloaded as 'data/london_places_overture.geojson''"
   ]
  },
  {
   "cell_type": "code",
   "execution_count": null,
   "id": "8b854148-791c-4f55-8b81-e55ee1ed6b51",
   "metadata": {},
   "outputs": [],
   "source": [
    "%%sql\n",
    "\n",
    "COPY (\n",
    "    SELECT\n",
    "        names.primary AS name,\n",
    "        categories.main as category,\n",
    "        ROUND(confidence,2) as confidence,\n",
    "        ST_GeomFromWKB(geometry) as geometry\n",
    "FROM read_parquet('s3://overturemaps-us-west-2/release/2024-05-16-beta.0/theme=places/*/*')\n",
    "WHERE\n",
    "    bbox.xmin BETWEEN -0.5103751 AND 0.3340155 AND\n",
    "    bbox.ymin BETWEEN 51.2867601 AND 51.6918741\n",
    ") TO 'data/overture_data/london_places_overture.geojson' WITH (FORMAT GDAL, DRIVER 'GeoJSON', SRS 'EPSG:4326');"
   ]
  },
  {
   "cell_type": "markdown",
   "id": "ea250d9c-c829-48cd-b848-1a0548d902c2",
   "metadata": {},
   "source": [
    "### Overture Download Stats"
   ]
  },
  {
   "cell_type": "code",
   "execution_count": 18,
   "id": "11aabcc2-ef8f-4c90-99a6-e06add770aac",
   "metadata": {},
   "outputs": [
    {
     "name": "stdout",
     "output_type": "stream",
     "text": [
      "London Building Count: 61364\n",
      "London POI count: 343712\n"
     ]
    }
   ],
   "source": [
    "#Basic overview stats of London Data\n",
    "buildings = gpd.read_file('data/overture_data/london_buildings_overture.geojson')\n",
    "places = gpd.read_file('data/overture_data/london_places_overture.geojson')\n",
    "\n",
    "#Count of Features\n",
    "print(\"London Building Count: \" + str(buildings.shape[0]))\n",
    "print(\"London POI count: \" + str(places.shape[0]))"
   ]
  },
  {
   "cell_type": "markdown",
   "id": "bce83c93-6e2c-4673-9377-dc91d6669e19",
   "metadata": {},
   "source": [
    "### Download Buildings - OSM\n",
    "\n",
    "Downloaded as 'data/osmbuildings/building_footprints.geojson'"
   ]
  },
  {
   "cell_type": "code",
   "execution_count": 4,
   "id": "9cec2615-3ff8-414a-b761-83d72d7808d6",
   "metadata": {},
   "outputs": [
    {
     "ename": "NameError",
     "evalue": "name 'ox' is not defined",
     "output_type": "error",
     "traceback": [
      "\u001b[0;31m---------------------------------------------------------------------------\u001b[0m",
      "\u001b[0;31mNameError\u001b[0m                                 Traceback (most recent call last)",
      "Cell \u001b[0;32mIn[4], line 5\u001b[0m\n\u001b[1;32m      2\u001b[0m place_name \u001b[38;5;241m=\u001b[39m \u001b[38;5;124m'\u001b[39m\u001b[38;5;124mLondon, United Kingdom\u001b[39m\u001b[38;5;124m'\u001b[39m\n\u001b[1;32m      4\u001b[0m \u001b[38;5;66;03m#Test new config\u001b[39;00m\n\u001b[0;32m----> 5\u001b[0m \u001b[43mox\u001b[49m\u001b[38;5;241m.\u001b[39mconfig(use_cache\u001b[38;5;241m=\u001b[39m\u001b[38;5;28;01mTrue\u001b[39;00m, log_console\u001b[38;5;241m=\u001b[39m\u001b[38;5;28;01mTrue\u001b[39;00m)\n\u001b[1;32m      7\u001b[0m buildings \u001b[38;5;241m=\u001b[39m ox\u001b[38;5;241m.\u001b[39mfeatures_from_place(place_name, tags\u001b[38;5;241m=\u001b[39m{\u001b[38;5;124m'\u001b[39m\u001b[38;5;124mbuilding\u001b[39m\u001b[38;5;124m'\u001b[39m: \u001b[38;5;28;01mTrue\u001b[39;00m})\n\u001b[1;32m      8\u001b[0m buildings \u001b[38;5;241m=\u001b[39m buildings[buildings\u001b[38;5;241m.\u001b[39mgeometry\u001b[38;5;241m.\u001b[39mnotnull()]\n",
      "\u001b[0;31mNameError\u001b[0m: name 'ox' is not defined"
     ]
    }
   ],
   "source": [
    "#Download Data for 32 Boroughs (Exc. City of London)\n",
    "place_name = 'London, United Kingdom'\n",
    "\n",
    "#Test new config\n",
    "ox.config(use_cache=True, log_console=True)\n",
    "\n",
    "buildings = ox.features_from_place(place_name, tags={'building': True})\n",
    "buildings = buildings[buildings.geometry.notnull()]\n",
    "building_footprints = buildings[buildings.geom_type.isin(['Polygon', 'MultiPolygon'])]\n",
    "\n",
    "for col in building_footprints.columns:\n",
    "    if building_footprints.apply(lambda x: isinstance(x, list)).any():\n",
    "        building_footprints = building_footprints[col].apply(lambda x: str(x) if isinstance(x, list) else x)\n",
    "\n",
    "building_footprints = building_footprints[['name', 'geometry']].reset_index()\n",
    "print(building_footprints)\n",
    "        \n",
    "# Save the combined GeoDataFrame to a geojson file\n",
    "building_footprints.to_file(\"data/osm_data/boroughs_buildings.geojson\", driver=\"GeoJSON\")"
   ]
  },
  {
   "cell_type": "code",
   "execution_count": null,
   "id": "a6be029b-727c-4b96-81dc-37f6d7502a21",
   "metadata": {},
   "outputs": [],
   "source": [
    "#Add City of London\n",
    "place_name = 'City of London, England, United Kingdom'\n",
    "\n",
    "buildings_city = ox.features_from_place(place_name, tags={'building': True})\n",
    "buildings_city = buildings_city[buildings_city.geometry.notnull()]\n",
    "building_footprints_city = buildings_city[buildings_city.geom_type.isin(['Polygon', 'MultiPolygon'])]\n",
    "\n",
    "for col in building_footprints_city.columns:\n",
    "    if building_footprints_city.apply(lambda x: isinstance(x, list)).any():\n",
    "        building_footprints_city = building_footprints_city[col].apply(lambda x: str(x) if isinstance(x, list) else x)\n",
    "\n",
    "building_footprints_city = building_footprints_city[['name', 'geometry']].reset_index()\n",
    "\n",
    "building_footprints_combined = pd.concat([building_footprints, building_footprints_city], ignore_index=True)\n",
    "        \n",
    "# Save the combined GeoDataFrame to a geojson file\n",
    "building_footprints_combined.to_file(\"data/osm_data/all_london_buildings.geojson\", driver=\"GeoJSON\")"
   ]
  }
 ],
 "metadata": {
  "kernelspec": {
   "display_name": "urbsim",
   "language": "python",
   "name": "urbsim"
  },
  "language_info": {
   "codemirror_mode": {
    "name": "ipython",
    "version": 3
   },
   "file_extension": ".py",
   "mimetype": "text/x-python",
   "name": "python",
   "nbconvert_exporter": "python",
   "pygments_lexer": "ipython3",
   "version": "3.11.7"
  }
 },
 "nbformat": 4,
 "nbformat_minor": 5
}
