{
 "cells": [
  {
   "cell_type": "markdown",
   "id": "528b9928-7b86-4dcf-a856-a7d2013f781e",
   "metadata": {},
   "source": [
    "# Test Full Code with Birmingham\n",
    "### Gavin Rolls\n",
    "\n",
    "This notebook will be a compilation of the methods I've applied to London as my area of study and attempt to recreate the model in Birmingham"
   ]
  },
  {
   "cell_type": "markdown",
   "id": "f959233a-e393-48b8-82df-ea3d06821a3c",
   "metadata": {},
   "source": [
    "# Data Collection"
   ]
  },
  {
   "cell_type": "markdown",
   "id": "92422da7-8800-4879-b615-a657c31aa3d7",
   "metadata": {},
   "source": [
    "### Imports + Database Configuration"
   ]
  },
  {
   "cell_type": "code",
   "execution_count": 23,
   "id": "de4c8543-459b-4499-8993-204b485d9a82",
   "metadata": {},
   "outputs": [],
   "source": [
    "#Library Imports - using DuckDB for Overture Import\n",
    "\n",
    "#Database\n",
    "import duckdb\n",
    "\n",
    "#Basics\n",
    "import pandas as pd\n",
    "import geopandas as gpd\n",
    "from geopy.geocoders import Nominatim\n",
    "\n",
    "#OpenStreetMap\n",
    "import osmnx as ox\n",
    "\n",
    "#Shapely\n",
    "from geopy.geocoders import Nominatim\n",
    "from shapely.geometry import box\n",
    "from shapely import wkt\n",
    "import shapely.geometry\n",
    "from shapely.geometry import Polygon, MultiPolygon\n",
    "from shapely.geometry import mapping\n",
    "from shapely.geometry import shape\n",
    "\n",
    "#Plots\n",
    "import matplotlib.pyplot as plt\n",
    "\n",
    "#Warning Supression\n",
    "import warnings"
   ]
  },
  {
   "cell_type": "code",
   "execution_count": 3,
   "id": "e265bd51-0a0e-4e10-a20b-999eebd18587",
   "metadata": {},
   "outputs": [
    {
     "name": "stdout",
     "output_type": "stream",
     "text": [
      "Note: you may need to restart the kernel to use updated packages.\n",
      "Note: you may need to restart the kernel to use updated packages.\n"
     ]
    }
   ],
   "source": [
    "#Config SQL\n",
    "%pip install ipython-sql duckdb duckdb-engine jupysql --quiet\n",
    "%pip install --upgrade grpcio --quiet\n",
    "%load_ext sql"
   ]
  },
  {
   "cell_type": "code",
   "execution_count": 5,
   "id": "1d8b24b9-741a-4427-9f6d-83ca43b6bf5e",
   "metadata": {},
   "outputs": [],
   "source": [
    "%config SqlMagic.autopandas = True\n",
    "%config SqlMagic.feedback = False\n",
    "%config SqlMagic.displaycon = False\n",
    "%sql duckdb:///:memory:"
   ]
  },
  {
   "cell_type": "code",
   "execution_count": 6,
   "id": "0d2b9f16-aa88-44ea-94a7-21b510d59adb",
   "metadata": {},
   "outputs": [
    {
     "data": {
      "text/html": [
       "<div>\n",
       "<style scoped>\n",
       "    .dataframe tbody tr th:only-of-type {\n",
       "        vertical-align: middle;\n",
       "    }\n",
       "\n",
       "    .dataframe tbody tr th {\n",
       "        vertical-align: top;\n",
       "    }\n",
       "\n",
       "    .dataframe thead th {\n",
       "        text-align: right;\n",
       "    }\n",
       "</style>\n",
       "<table border=\"1\" class=\"dataframe\">\n",
       "  <thead>\n",
       "    <tr style=\"text-align: right;\">\n",
       "      <th></th>\n",
       "      <th>Success</th>\n",
       "    </tr>\n",
       "  </thead>\n",
       "  <tbody>\n",
       "  </tbody>\n",
       "</table>\n",
       "</div>"
      ],
      "text/plain": [
       "Empty DataFrame\n",
       "Columns: [Success]\n",
       "Index: []"
      ]
     },
     "execution_count": 6,
     "metadata": {},
     "output_type": "execute_result"
    }
   ],
   "source": [
    "%%sql      \n",
    "INSTALL httpfs;\n",
    "\n",
    "LOAD httpfs;\n",
    "\n",
    "INSTALL spatial;\n",
    "\n",
    "LOAD spatial;\n",
    "\n",
    "SET s3_region='us-west-2';"
   ]
  },
  {
   "cell_type": "markdown",
   "id": "3e7a6dbe-402d-408d-8f8a-def4ca456b65",
   "metadata": {},
   "source": [
    "### Download Buildings - Overture\n",
    "\n",
    "Downloaded as 'data/bham_buildings_overture.geojson'"
   ]
  },
  {
   "cell_type": "code",
   "execution_count": 12,
   "id": "fbaedb95-6cae-4245-8e75-d070fba8d75e",
   "metadata": {},
   "outputs": [
    {
     "name": "stdout",
     "output_type": "stream",
     "text": [
      "-2.0336486\n",
      "52.381053\n",
      "-1.7288417\n",
      "52.6087058\n"
     ]
    }
   ],
   "source": [
    "#Get Birmingham Bounding Box\n",
    "\n",
    "# Initialize the geolocator\n",
    "geolocator = Nominatim(user_agent=\"geoapi\")\n",
    "\n",
    "# Get location data\n",
    "location = geolocator.geocode(\"Birmingham\")\n",
    "\n",
    "# Get the bounding box\n",
    "bounding_box = location.raw['boundingbox']\n",
    "\n",
    "# Convert bounding box to coordinates\n",
    "min_lat, max_lat = float(bounding_box[0]), float(bounding_box[1])\n",
    "min_lon, max_lon = float(bounding_box[2]), float(bounding_box[3])\n",
    "\n",
    "print(min_lon)\n",
    "print(min_lat)\n",
    "print(max_lon)\n",
    "print(max_lat)"
   ]
  },
  {
   "cell_type": "code",
   "execution_count": 14,
   "id": "2f922136-eecf-4d25-9c07-9d0c0a3c7ca6",
   "metadata": {},
   "outputs": [
    {
     "data": {
      "application/vnd.jupyter.widget-view+json": {
       "model_id": "97ac98caa2d444688f0300b4d4f7d7b0",
       "version_major": 2,
       "version_minor": 0
      },
      "text/plain": [
       "FloatProgress(value=0.0, layout=Layout(width='auto'), style=ProgressStyle(bar_color='black'))"
      ]
     },
     "metadata": {},
     "output_type": "display_data"
    },
    {
     "data": {
      "text/html": [
       "<div>\n",
       "<style scoped>\n",
       "    .dataframe tbody tr th:only-of-type {\n",
       "        vertical-align: middle;\n",
       "    }\n",
       "\n",
       "    .dataframe tbody tr th {\n",
       "        vertical-align: top;\n",
       "    }\n",
       "\n",
       "    .dataframe thead th {\n",
       "        text-align: right;\n",
       "    }\n",
       "</style>\n",
       "<table border=\"1\" class=\"dataframe\">\n",
       "  <thead>\n",
       "    <tr style=\"text-align: right;\">\n",
       "      <th></th>\n",
       "      <th>Success</th>\n",
       "    </tr>\n",
       "  </thead>\n",
       "  <tbody>\n",
       "  </tbody>\n",
       "</table>\n",
       "</div>"
      ],
      "text/plain": [
       "Empty DataFrame\n",
       "Columns: [Success]\n",
       "Index: []"
      ]
     },
     "execution_count": 14,
     "metadata": {},
     "output_type": "execute_result"
    }
   ],
   "source": [
    "%%sql\n",
    "\n",
    "LOAD azure;\n",
    "\n",
    "SET azure_storage_connection_string = 'DefaultEndpointsProtocol=https;AccountName=overturemapswestus2;AccountKey=;EndpointSuffix=core.windows.net';\n",
    "COPY (\n",
    "SELECT\n",
    "    names.primary as primary_name,\n",
    "    height,\n",
    "    level,\n",
    "    ST_GeomFromWKB(geometry) as geometry\n",
    "FROM read_parquet('azure://release/2024-05-16-beta.0/theme=buildings/type=building/*', filename=true, hive_partitioning=1)\n",
    "WHERE primary_name IS NOT NULL\n",
    "AND bbox.xmin > -2.0336486\n",
    "AND bbox.xmax < -1.7288417\n",
    "AND bbox.ymin > 52.381053\n",
    "AND bbox.ymax < 52.6087058\n",
    ") TO 'data/overture_data/bham_buildings_overture.geojson'\n",
    "WITH (FORMAT GDAL, DRIVER 'GeoJSON', SRS 'EPSG:4326');\n"
   ]
  },
  {
   "cell_type": "markdown",
   "id": "9f1e1461-a53e-494f-af02-bfd499faf386",
   "metadata": {},
   "source": [
    "### Download POIs - Overture\n",
    "\n",
    "Downloaded as 'data/bham_places_overture.geojson''"
   ]
  },
  {
   "cell_type": "code",
   "execution_count": 15,
   "id": "05eda1c9-e2b4-4dc0-9666-9c4fda97a4d9",
   "metadata": {},
   "outputs": [
    {
     "data": {
      "application/vnd.jupyter.widget-view+json": {
       "model_id": "3d1697a395964b73b0673b79fbd822b5",
       "version_major": 2,
       "version_minor": 0
      },
      "text/plain": [
       "FloatProgress(value=0.0, layout=Layout(width='auto'), style=ProgressStyle(bar_color='black'))"
      ]
     },
     "metadata": {},
     "output_type": "display_data"
    },
    {
     "data": {
      "text/html": [
       "<div>\n",
       "<style scoped>\n",
       "    .dataframe tbody tr th:only-of-type {\n",
       "        vertical-align: middle;\n",
       "    }\n",
       "\n",
       "    .dataframe tbody tr th {\n",
       "        vertical-align: top;\n",
       "    }\n",
       "\n",
       "    .dataframe thead th {\n",
       "        text-align: right;\n",
       "    }\n",
       "</style>\n",
       "<table border=\"1\" class=\"dataframe\">\n",
       "  <thead>\n",
       "    <tr style=\"text-align: right;\">\n",
       "      <th></th>\n",
       "      <th>Success</th>\n",
       "    </tr>\n",
       "  </thead>\n",
       "  <tbody>\n",
       "  </tbody>\n",
       "</table>\n",
       "</div>"
      ],
      "text/plain": [
       "Empty DataFrame\n",
       "Columns: [Success]\n",
       "Index: []"
      ]
     },
     "execution_count": 15,
     "metadata": {},
     "output_type": "execute_result"
    }
   ],
   "source": [
    "%%sql\n",
    "\n",
    "COPY (\n",
    "    SELECT\n",
    "        names.primary AS name,\n",
    "        categories.main as category,\n",
    "        ROUND(confidence,2) as confidence,\n",
    "        ST_GeomFromWKB(geometry) as geometry\n",
    "FROM read_parquet('s3://overturemaps-us-west-2/release/2024-05-16-beta.0/theme=places/*/*')\n",
    "WHERE\n",
    "    bbox.xmin BETWEEN -2.0336486 AND -1.7288417 AND\n",
    "    bbox.ymin BETWEEN 52.381053 AND 52.6087058\n",
    ") TO 'data/overture_data/bham_places_overture.geojson' WITH (FORMAT GDAL, DRIVER 'GeoJSON', SRS 'EPSG:4326');"
   ]
  },
  {
   "cell_type": "markdown",
   "id": "ff8a9b3e-5bdc-4920-81ea-a8e3ed95ce0d",
   "metadata": {},
   "source": [
    "### Overture Download Stats"
   ]
  },
  {
   "cell_type": "code",
   "execution_count": 35,
   "id": "387d40d1-9fa5-4235-b31e-2f57732d966d",
   "metadata": {},
   "outputs": [
    {
     "name": "stdout",
     "output_type": "stream",
     "text": [
      "Birmingham Building Count: 11987\n",
      "Birmingham POI count: 46781\n"
     ]
    }
   ],
   "source": [
    "#Basic overview stats of Birmingham Data - Using the locally saved files here\n",
    "buildings = gpd.read_file('data/overture_data/bham_buildings_overture.geojson')\n",
    "places = gpd.read_file('data/overture_data/bham_places_overture.geojson')\n",
    "\n",
    "#Count of Features\n",
    "print(\"Birmingham Building Count: \" + str(buildings.shape[0]))\n",
    "print(\"Birmingham POI count: \" + str(places.shape[0]))"
   ]
  },
  {
   "cell_type": "markdown",
   "id": "6d50a230-1d6c-4876-9777-6b81a19b30f8",
   "metadata": {},
   "source": [
    "### Download Buildings - OSM\n",
    "\n",
    "Downloaded as 'data/osmbuildings/building_footprints.geojson'"
   ]
  },
  {
   "cell_type": "code",
   "execution_count": 36,
   "id": "cc54fc8c-bd46-428f-b895-eabdb81e7597",
   "metadata": {},
   "outputs": [
    {
     "name": "stderr",
     "output_type": "stream",
     "text": [
      "/var/folders/2b/877nyyk109x4dd8hgx4ckwl40000gn/T/ipykernel_92764/2788206819.py:5: UserWarning: The `utils.config` function is deprecated and will be removed in a future release. Instead, use the `settings` module directly to configure a global setting's value. For example, `ox.settings.log_console=True`.\n",
      "  ox.config(use_cache=True, log_console=True)\n"
     ]
    },
    {
     "name": "stdout",
     "output_type": "stream",
     "text": [
      "       element_type     osmid                                          name  \\\n",
      "0               way  16966777                                           NaN   \n",
      "1               way  16966784                                           NaN   \n",
      "2               way  16966785                                           NaN   \n",
      "3               way  16966788                                           NaN   \n",
      "4               way  16966789                                           NaN   \n",
      "...             ...       ...                                           ...   \n",
      "256261     relation  15607352                   Beauchamp Convenience Store   \n",
      "256262     relation  15809922                                       Block A   \n",
      "256263     relation  15823526                                           NaN   \n",
      "256264     relation  16414329  Birmingham Settlement - 610 Community Centre   \n",
      "256265     relation  16542773                                           NaN   \n",
      "\n",
      "                                                 geometry  \n",
      "0       POLYGON ((-1.82461 52.55549, -1.82450 52.55543...  \n",
      "1       POLYGON ((-1.82324 52.55438, -1.82301 52.55434...  \n",
      "2       POLYGON ((-1.82273 52.55403, -1.82264 52.55400...  \n",
      "3       POLYGON ((-1.82341 52.55414, -1.82338 52.55412...  \n",
      "4       POLYGON ((-1.82311 52.55396, -1.82302 52.55391...  \n",
      "...                                                   ...  \n",
      "256261  POLYGON ((-1.92972 52.52606, -1.92979 52.52609...  \n",
      "256262  POLYGON ((-1.93083 52.48658, -1.93080 52.48673...  \n",
      "256263  POLYGON ((-1.88463 52.48027, -1.88471 52.48021...  \n",
      "256264  MULTIPOLYGON (((-1.88578 52.54762, -1.88548 52...  \n",
      "256265  POLYGON ((-1.87999 52.45025, -1.88014 52.45032...  \n",
      "\n",
      "[256266 rows x 4 columns]\n"
     ]
    }
   ],
   "source": [
    "#Download Data for Birmingham\n",
    "place_name = 'Birmingham, United Kingdom'\n",
    "\n",
    "#Test new config\n",
    "ox.config(use_cache=True, log_console=True)\n",
    "\n",
    "buildings = ox.features_from_place(place_name, tags={'building': True})\n",
    "buildings = buildings[buildings.geometry.notnull()]\n",
    "building_footprints = buildings[buildings.geom_type.isin(['Polygon', 'MultiPolygon'])]\n",
    "\n",
    "for col in building_footprints.columns:\n",
    "    if building_footprints.apply(lambda x: isinstance(x, list)).any():\n",
    "        building_footprints = building_footprints[col].apply(lambda x: str(x) if isinstance(x, list) else x)\n",
    "\n",
    "building_footprints = building_footprints[['name', 'geometry']].reset_index()\n",
    "print(building_footprints)\n",
    "        \n",
    "# Save the combined GeoDataFrame to a geojson file\n",
    "building_footprints.to_file(\"data/osm_data/bham_buildings.geojson\", driver=\"GeoJSON\")"
   ]
  },
  {
   "cell_type": "markdown",
   "id": "6fff8d21-84f7-4991-bfbd-bcde56e5dc77",
   "metadata": {},
   "source": [
    "### Extract Building Type Info from OSM - Commercial"
   ]
  },
  {
   "cell_type": "code",
   "execution_count": 37,
   "id": "9436dfc4-e6bc-4972-a433-f911edbbb74c",
   "metadata": {},
   "outputs": [
    {
     "name": "stdout",
     "output_type": "stream",
     "text": [
      "    element_type       osmid                     name  \\\n",
      "0            way    17405658                      NaN   \n",
      "1            way    20002347  Dental Care Partnership   \n",
      "2            way    22763584            Station House   \n",
      "3            way    22763760                      NaN   \n",
      "4            way    22763952                      NaN   \n",
      "..           ...         ...                      ...   \n",
      "312          way  1259115143                      NaN   \n",
      "313          way  1259115144                      NaN   \n",
      "314          way  1259115145                      NaN   \n",
      "315     relation      333915      The Custard Factory   \n",
      "316     relation     7076030                Eagle Two   \n",
      "\n",
      "                                              geometry  \n",
      "0    POLYGON ((-1.82146 52.56186, -1.82179 52.56209...  \n",
      "1    POLYGON ((-1.82680 52.55679, -1.82680 52.55680...  \n",
      "2    POLYGON ((-1.82027 52.56533, -1.82036 52.56528...  \n",
      "3    POLYGON ((-1.81624 52.56247, -1.81633 52.56237...  \n",
      "4    POLYGON ((-1.82061 52.56543, -1.82042 52.56531...  \n",
      "..                                                 ...  \n",
      "312  POLYGON ((-1.82325 52.58782, -1.82327 52.58774...  \n",
      "313  POLYGON ((-1.82330 52.58783, -1.82336 52.58783...  \n",
      "314  POLYGON ((-1.82324 52.58774, -1.82321 52.58785...  \n",
      "315  POLYGON ((-1.88473 52.47478, -1.88489 52.47480...  \n",
      "316  POLYGON ((-1.76134 52.45196, -1.76146 52.45178...  \n",
      "\n",
      "[317 rows x 4 columns]\n"
     ]
    }
   ],
   "source": [
    "#Download Data for Birmingham\n",
    "place_name = 'Birmingham, United Kingdom'\n",
    "\n",
    "commercial_buildings = ox.features_from_place(place_name, tags={'building': ['commercial']})\n",
    "\n",
    "commercial_buildings = commercial_buildings[commercial_buildings.geometry.notnull()]\n",
    "commercial_building_footprints = commercial_buildings[commercial_buildings.geom_type.isin(['Polygon', 'MultiPolygon'])]\n",
    "\n",
    "for col in commercial_building_footprints.columns:\n",
    "    if commercial_building_footprints.apply(lambda x: isinstance(x, list)).any():\n",
    "        commercial_building_footprints = commercial_building_footprints[col].apply(lambda x: str(x) if isinstance(x, list) else x)\n",
    "\n",
    "commercial_building_footprints = commercial_building_footprints[['name', 'geometry']].reset_index()\n",
    "print(commercial_building_footprints)\n",
    "        \n",
    "# Save the combined GeoDataFrame to a geojson file\n",
    "commercial_building_footprints.to_file(\"data/osm_data/bham_commercial_buildings.geojson\", driver=\"GeoJSON\")"
   ]
  },
  {
   "cell_type": "markdown",
   "id": "db38dfb2-2db4-4c75-b03d-2602c729ddb9",
   "metadata": {},
   "source": [
    "### Extract Building Type Info from OSM - Office"
   ]
  },
  {
   "cell_type": "code",
   "execution_count": 39,
   "id": "b95917ed-28c6-41f2-a474-6d945a48f2fb",
   "metadata": {},
   "outputs": [
    {
     "name": "stdout",
     "output_type": "stream",
     "text": [
      "    element_type     osmid                     name  \\\n",
      "0            way  22820818        Baskerville House   \n",
      "1            way  28292471     No. 1 Colmore Square   \n",
      "2            way  28425056         McLaren Building   \n",
      "3            way  28455010        Gazette Buildings   \n",
      "4            way  28514237                      NaN   \n",
      "..           ...       ...                      ...   \n",
      "190     relation   1298933           Fountain Court   \n",
      "191     relation   3417218     Eight Brindley Place   \n",
      "192     relation   3417219     Seven Brindley Place   \n",
      "193     relation   3417220       Ten Brindley Place   \n",
      "194     relation   4631334  Birmingham Royal Ballet   \n",
      "\n",
      "                                              geometry  \n",
      "0    POLYGON ((-1.90809 52.48018, -1.90735 52.48039...  \n",
      "1    POLYGON ((-1.89668 52.48235, -1.89675 52.48258...  \n",
      "2    POLYGON ((-1.89265 52.48192, -1.89247 52.48183...  \n",
      "3    POLYGON ((-1.89313 52.48261, -1.89339 52.48236...  \n",
      "4    POLYGON ((-1.90172 52.47568, -1.90125 52.47528...  \n",
      "..                                                 ...  \n",
      "190  POLYGON ((-1.89569 52.48439, -1.89483 52.48385...  \n",
      "191  POLYGON ((-1.91369 52.47690, -1.91353 52.47703...  \n",
      "192  POLYGON ((-1.91369 52.47690, -1.91374 52.47692...  \n",
      "193  POLYGON ((-1.91318 52.47666, -1.91301 52.47679...  \n",
      "194  POLYGON ((-1.89864 52.47415, -1.89868 52.47417...  \n",
      "\n",
      "[195 rows x 4 columns]\n"
     ]
    },
    {
     "name": "stderr",
     "output_type": "stream",
     "text": [
      "/var/folders/2b/877nyyk109x4dd8hgx4ckwl40000gn/T/ipykernel_92764/2941556620.py:4: UserWarning: The `utils.config` function is deprecated and will be removed in a future release. Instead, use the `settings` module directly to configure a global setting's value. For example, `ox.settings.log_console=True`.\n",
      "  ox.config(use_cache=True, log_console=True)\n"
     ]
    }
   ],
   "source": [
    "#Download Data for Birmingham\n",
    "place_name = 'Birmingham, United Kingdom'\n",
    "\n",
    "ox.config(use_cache=True, log_console=True)\n",
    "\n",
    "office_buildings = ox.features_from_place(place_name, tags={'building': ['office']})\n",
    "\n",
    "office_buildings = office_buildings[office_buildings.geometry.notnull()]\n",
    "office_building_footprints = office_buildings[office_buildings.geom_type.isin(['Polygon', 'MultiPolygon'])]\n",
    "\n",
    "for col in office_building_footprints.columns:\n",
    "    if office_building_footprints.apply(lambda x: isinstance(x, list)).any():\n",
    "        office_building_footprints[col] = office_building_footprints[col].apply(lambda x: str(x) if isinstance(x, list) else x)\n",
    "\n",
    "office_building_footprints = office_building_footprints[['name', 'geometry']].reset_index()\n",
    "print(office_building_footprints)\n",
    "        \n",
    "# Save the combined GeoDataFrame to a geojson file\n",
    "office_building_footprints.to_file(\"data/osm_data/bham_office_buildings.geojson\", driver=\"GeoJSON\")\n"
   ]
  },
  {
   "cell_type": "markdown",
   "id": "791ce649-0ef4-40e6-83de-3450ce3f9bcc",
   "metadata": {},
   "source": [
    "### Extract Building Type Info from OSM - Residential"
   ]
  },
  {
   "cell_type": "code",
   "execution_count": 40,
   "id": "bb49a712-598f-463c-87a7-7d7d82e8c559",
   "metadata": {},
   "outputs": [
    {
     "name": "stderr",
     "output_type": "stream",
     "text": [
      "/var/folders/2b/877nyyk109x4dd8hgx4ckwl40000gn/T/ipykernel_92764/2012114761.py:4: UserWarning: The `utils.config` function is deprecated and will be removed in a future release. Instead, use the `settings` module directly to configure a global setting's value. For example, `ox.settings.log_console=True`.\n",
      "  ox.config(use_cache=True, log_console=True)\n"
     ]
    },
    {
     "name": "stdout",
     "output_type": "stream",
     "text": [
      "       element_type     osmid           name  \\\n",
      "0               way  16966777            NaN   \n",
      "1               way  16966784            NaN   \n",
      "2               way  16966785            NaN   \n",
      "3               way  16966788            NaN   \n",
      "4               way  16966789            NaN   \n",
      "...             ...       ...            ...   \n",
      "189381     relation  10407216            NaN   \n",
      "189382     relation  11382596  Bentley House   \n",
      "189383     relation  12197160            NaN   \n",
      "189384     relation  15809922        Block A   \n",
      "189385     relation  16542773            NaN   \n",
      "\n",
      "                                                 geometry  \n",
      "0       POLYGON ((-1.82461 52.55549, -1.82450 52.55543...  \n",
      "1       POLYGON ((-1.82324 52.55438, -1.82301 52.55434...  \n",
      "2       POLYGON ((-1.82273 52.55403, -1.82264 52.55400...  \n",
      "3       POLYGON ((-1.82341 52.55414, -1.82338 52.55412...  \n",
      "4       POLYGON ((-1.82311 52.55396, -1.82302 52.55391...  \n",
      "...                                                   ...  \n",
      "189381  POLYGON ((-1.91643 52.48526, -1.91565 52.48489...  \n",
      "189382  POLYGON ((-1.89049 52.48919, -1.89057 52.48909...  \n",
      "189383  POLYGON ((-1.85970 52.54240, -1.85965 52.54241...  \n",
      "189384  POLYGON ((-1.93083 52.48658, -1.93080 52.48673...  \n",
      "189385  POLYGON ((-1.87999 52.45025, -1.88014 52.45032...  \n",
      "\n",
      "[189386 rows x 4 columns]\n"
     ]
    }
   ],
   "source": [
    "#Download Data for Birmingham\n",
    "place_name = 'Birmingham, United Kingdom'\n",
    "\n",
    "ox.config(use_cache=True, log_console=True)\n",
    "\n",
    "residential_buildings = ox.features_from_place(place_name, tags={'building': ['residential']})\n",
    "\n",
    "residential_buildings = residential_buildings[residential_buildings.geometry.notnull()]\n",
    "residential_building_footprints = residential_buildings[residential_buildings.geom_type.isin(['Polygon', 'MultiPolygon'])]\n",
    "\n",
    "for col in residential_building_footprints.columns:\n",
    "    if residential_building_footprints.apply(lambda x: isinstance(x, list)).any():\n",
    "        residential_building_footprints[col] = residential_building_footprints[col].apply(lambda x: str(x) if isinstance(x, list) else x)\n",
    "\n",
    "residential_building_footprints = residential_building_footprints[['name', 'geometry']].reset_index()\n",
    "print(residential_building_footprints)\n",
    "        \n",
    "# Save the combined GeoDataFrame to a geojson file\n",
    "residential_building_footprints.to_file(\"data/osm_data/bham_residential_buildings.geojson\", driver=\"GeoJSON\")\n"
   ]
  },
  {
   "cell_type": "markdown",
   "id": "392db1b4-f2dd-4ba1-aa5b-9eb2a466b14d",
   "metadata": {},
   "source": [
    "### Extract Building Type Info from OSM - Retail"
   ]
  },
  {
   "cell_type": "code",
   "execution_count": 41,
   "id": "38280028-0e87-4308-9854-4c52ae9d010b",
   "metadata": {},
   "outputs": [
    {
     "name": "stderr",
     "output_type": "stream",
     "text": [
      "/var/folders/2b/877nyyk109x4dd8hgx4ckwl40000gn/T/ipykernel_92764/291704794.py:4: UserWarning: The `utils.config` function is deprecated and will be removed in a future release. Instead, use the `settings` module directly to configure a global setting's value. For example, `ox.settings.log_console=True`.\n",
      "  ox.config(use_cache=True, log_console=True)\n"
     ]
    },
    {
     "name": "stdout",
     "output_type": "stream",
     "text": [
      "     element_type     osmid                         name  \\\n",
      "0             way  16969083                        Boots   \n",
      "1             way  17273169                          NaN   \n",
      "2             way  20002348                  Vesey Manor   \n",
      "3             way  20002352             Driffold Gallery   \n",
      "4             way  23585174                     One Stop   \n",
      "...           ...       ...                          ...   \n",
      "3499     relation   2912290                  Sainsbury's   \n",
      "3500     relation   5536524                Grand Central   \n",
      "3501     relation  10748407             Picadilly Arcade   \n",
      "3502     relation  14397641                          NaN   \n",
      "3503     relation  15607352  Beauchamp Convenience Store   \n",
      "\n",
      "                                               geometry  \n",
      "0     POLYGON ((-1.82369 52.55768, -1.82379 52.55771...  \n",
      "1     POLYGON ((-1.89325 52.47748, -1.89313 52.47745...  \n",
      "2     POLYGON ((-1.82665 52.55648, -1.82665 52.55630...  \n",
      "3     POLYGON ((-1.82722 52.55565, -1.82734 52.55554...  \n",
      "4     POLYGON ((-1.90532 52.51745, -1.90573 52.51726...  \n",
      "...                                                 ...  \n",
      "3499  POLYGON ((-1.89359 52.43096, -1.89362 52.43129...  \n",
      "3500  POLYGON ((-1.89913 52.47742, -1.89929 52.47746...  \n",
      "3501  POLYGON ((-1.90020 52.47878, -1.90015 52.47907...  \n",
      "3502  POLYGON ((-1.92005 52.43149, -1.92003 52.43152...  \n",
      "3503  POLYGON ((-1.92972 52.52606, -1.92979 52.52609...  \n",
      "\n",
      "[3504 rows x 4 columns]\n"
     ]
    }
   ],
   "source": [
    "#Download Data for Birmingham\n",
    "place_name = 'Birmingham, United Kingdom'\n",
    "\n",
    "ox.config(use_cache=True, log_console=True)\n",
    "\n",
    "retail_buildings = ox.features_from_place(place_name, tags={'building': ['retail']})\n",
    "\n",
    "retail_buildings = retail_buildings[retail_buildings.geometry.notnull()]\n",
    "retail_building_footprints = retail_buildings[retail_buildings.geom_type.isin(['Polygon', 'MultiPolygon'])]\n",
    "\n",
    "for col in retail_building_footprints.columns:\n",
    "    if retail_building_footprints.apply(lambda x: isinstance(x, list)).any():\n",
    "        retail_building_footprints[col] = retail_building_footprints[col].apply(lambda x: str(x) if isinstance(x, list) else x)\n",
    "\n",
    "retail_building_footprints = retail_building_footprints[['name', 'geometry']].reset_index()\n",
    "print(retail_building_footprints)\n",
    "        \n",
    "# Save the combined GeoDataFrame to a geojson file\n",
    "retail_building_footprints.to_file(\"data/osm_data/bham_retail_buildings.geojson\", driver=\"GeoJSON\")\n"
   ]
  },
  {
   "cell_type": "markdown",
   "id": "afa76fec-925f-45c9-89db-6b6039d7ecac",
   "metadata": {},
   "source": [
    "# Data Cleaning\n",
    "### Taken from v2"
   ]
  },
  {
   "cell_type": "markdown",
   "id": "30b1a676-fdfd-49c8-8404-49ab5785b887",
   "metadata": {},
   "source": [
    "## Data Loading + Cleaning"
   ]
  },
  {
   "cell_type": "code",
   "execution_count": null,
   "id": "59324624-2c55-4871-8627-ec5017896a52",
   "metadata": {},
   "outputs": [],
   "source": []
  },
  {
   "cell_type": "markdown",
   "id": "373f60eb-5cf0-473d-a8cc-a0b9e59adc1f",
   "metadata": {},
   "source": [
    "### UK BRES Employment Data"
   ]
  },
  {
   "cell_type": "code",
   "execution_count": 53,
   "id": "9c1af5ff-d303-42e6-9bda-7ddfcc9a46a0",
   "metadata": {},
   "outputs": [
    {
     "name": "stdout",
     "output_type": "stream",
     "text": [
      "Num Rows (LSOAs) Before Cleaning: 639\n",
      "Num Rows (LSOAs) After Cleaning: 639\n"
     ]
    }
   ],
   "source": [
    "#Skip the first six rows because they're header information\n",
    "empl_data = pd.read_csv('data/employment_data/lsoa_by_industry.csv', skiprows=7, delimiter=',')\n",
    "\n",
    "unnamed_cols = empl_data.columns[empl_data.columns.str.contains('^Unnamed:')]\n",
    "empl_data.drop(columns=unnamed_cols, inplace=True)\n",
    "\n",
    "#Separate name into LSOA11CD and LSOA11NM\n",
    "def split_column(value):\n",
    "    if isinstance(value, str) and 'lsoa2011:' in value:\n",
    "        parts = value.split('lsoa2011:')[1]\n",
    "        code, name = parts.split(' : ')\n",
    "        return code.strip(), name.strip()\n",
    "    else:\n",
    "        return None, None\n",
    "\n",
    "empl_data[['LSOA11CD', 'LSOA11NM']] = empl_data['Area'].apply(lambda x: pd.Series(split_column(x)))\n",
    "\n",
    "# Drop rows not in Birmingham\n",
    "empl_data.dropna(subset=['LSOA11NM'], inplace=True)\n",
    "empl_data = empl_data[empl_data['LSOA11NM'].str.contains('Birmingham')]\n",
    "\n",
    "print(\"Num Rows (LSOAs) Before Cleaning: \" + str(empl_data.shape[0]))\n",
    "\n",
    "#There appear to be a bunch of duplicates so I'm going to get rid of them now\n",
    "empl_data.drop_duplicates(inplace=True)\n",
    "\n",
    "print(\"Num Rows (LSOAs) After Cleaning: \" + str(empl_data.shape[0]))"
   ]
  },
  {
   "cell_type": "code",
   "execution_count": 55,
   "id": "8bafa449-7fbe-4698-8e46-7880216586d8",
   "metadata": {},
   "outputs": [
    {
     "data": {
      "text/html": [
       "<div>\n",
       "<style scoped>\n",
       "    .dataframe tbody tr th:only-of-type {\n",
       "        vertical-align: middle;\n",
       "    }\n",
       "\n",
       "    .dataframe tbody tr th {\n",
       "        vertical-align: top;\n",
       "    }\n",
       "\n",
       "    .dataframe thead th {\n",
       "        text-align: right;\n",
       "    }\n",
       "</style>\n",
       "<table border=\"1\" class=\"dataframe\">\n",
       "  <thead>\n",
       "    <tr style=\"text-align: right;\">\n",
       "      <th></th>\n",
       "      <th>Area</th>\n",
       "      <th>01 : Crop and animal production, hunting and related service activities</th>\n",
       "      <th>02 : Forestry and logging</th>\n",
       "      <th>03 : Fishing and aquaculture</th>\n",
       "      <th>05 : Mining of coal and lignite</th>\n",
       "      <th>06 : Extraction of crude petroleum and natural gas</th>\n",
       "      <th>07 : Mining of metal ores</th>\n",
       "      <th>08 : Other mining and quarrying</th>\n",
       "      <th>09 : Mining support service activities</th>\n",
       "      <th>10 : Manufacture of food products</th>\n",
       "      <th>...</th>\n",
       "      <th>93 : Sports activities and amusement and recreation activities</th>\n",
       "      <th>94 : Activities of membership organisations</th>\n",
       "      <th>95 : Repair of computers and personal and household goods</th>\n",
       "      <th>96 : Other personal service activities</th>\n",
       "      <th>97 : Activities of households as employers of domestic personnel</th>\n",
       "      <th>98 : Undifferentiated goods- and services-producing activities of private households for own use</th>\n",
       "      <th>99 : Activities of extraterritorial organisations and bodies</th>\n",
       "      <th>LSOA11CD</th>\n",
       "      <th>LSOA11NM</th>\n",
       "      <th>total_employment</th>\n",
       "    </tr>\n",
       "  </thead>\n",
       "  <tbody>\n",
       "    <tr>\n",
       "      <th>13485</th>\n",
       "      <td>lsoa2011:E01008881 : Birmingham 067A</td>\n",
       "      <td>0.0</td>\n",
       "      <td>0.0</td>\n",
       "      <td>0.0</td>\n",
       "      <td>0.0</td>\n",
       "      <td>0.0</td>\n",
       "      <td>0.0</td>\n",
       "      <td>0.0</td>\n",
       "      <td>0.0</td>\n",
       "      <td>0.0</td>\n",
       "      <td>...</td>\n",
       "      <td>0.0</td>\n",
       "      <td>0.0</td>\n",
       "      <td>0.0</td>\n",
       "      <td>5.0</td>\n",
       "      <td>0.0</td>\n",
       "      <td>0.0</td>\n",
       "      <td>0.0</td>\n",
       "      <td>E01008881</td>\n",
       "      <td>Birmingham 067A</td>\n",
       "      <td>455.0</td>\n",
       "    </tr>\n",
       "    <tr>\n",
       "      <th>13486</th>\n",
       "      <td>lsoa2011:E01008882 : Birmingham 066A</td>\n",
       "      <td>0.0</td>\n",
       "      <td>0.0</td>\n",
       "      <td>0.0</td>\n",
       "      <td>0.0</td>\n",
       "      <td>0.0</td>\n",
       "      <td>0.0</td>\n",
       "      <td>0.0</td>\n",
       "      <td>0.0</td>\n",
       "      <td>0.0</td>\n",
       "      <td>...</td>\n",
       "      <td>10.0</td>\n",
       "      <td>0.0</td>\n",
       "      <td>0.0</td>\n",
       "      <td>0.0</td>\n",
       "      <td>0.0</td>\n",
       "      <td>0.0</td>\n",
       "      <td>0.0</td>\n",
       "      <td>E01008882</td>\n",
       "      <td>Birmingham 066A</td>\n",
       "      <td>30.0</td>\n",
       "    </tr>\n",
       "    <tr>\n",
       "      <th>13487</th>\n",
       "      <td>lsoa2011:E01008883 : Birmingham 078A</td>\n",
       "      <td>0.0</td>\n",
       "      <td>0.0</td>\n",
       "      <td>0.0</td>\n",
       "      <td>0.0</td>\n",
       "      <td>0.0</td>\n",
       "      <td>0.0</td>\n",
       "      <td>0.0</td>\n",
       "      <td>0.0</td>\n",
       "      <td>150.0</td>\n",
       "      <td>...</td>\n",
       "      <td>0.0</td>\n",
       "      <td>20.0</td>\n",
       "      <td>0.0</td>\n",
       "      <td>0.0</td>\n",
       "      <td>0.0</td>\n",
       "      <td>0.0</td>\n",
       "      <td>0.0</td>\n",
       "      <td>E01008883</td>\n",
       "      <td>Birmingham 078A</td>\n",
       "      <td>1810.0</td>\n",
       "    </tr>\n",
       "    <tr>\n",
       "      <th>13488</th>\n",
       "      <td>lsoa2011:E01008884 : Birmingham 078B</td>\n",
       "      <td>0.0</td>\n",
       "      <td>0.0</td>\n",
       "      <td>0.0</td>\n",
       "      <td>0.0</td>\n",
       "      <td>0.0</td>\n",
       "      <td>0.0</td>\n",
       "      <td>0.0</td>\n",
       "      <td>0.0</td>\n",
       "      <td>30.0</td>\n",
       "      <td>...</td>\n",
       "      <td>0.0</td>\n",
       "      <td>0.0</td>\n",
       "      <td>5.0</td>\n",
       "      <td>40.0</td>\n",
       "      <td>0.0</td>\n",
       "      <td>0.0</td>\n",
       "      <td>0.0</td>\n",
       "      <td>E01008884</td>\n",
       "      <td>Birmingham 078B</td>\n",
       "      <td>2590.0</td>\n",
       "    </tr>\n",
       "    <tr>\n",
       "      <th>13489</th>\n",
       "      <td>lsoa2011:E01008885 : Birmingham 076A</td>\n",
       "      <td>0.0</td>\n",
       "      <td>0.0</td>\n",
       "      <td>0.0</td>\n",
       "      <td>0.0</td>\n",
       "      <td>0.0</td>\n",
       "      <td>0.0</td>\n",
       "      <td>0.0</td>\n",
       "      <td>0.0</td>\n",
       "      <td>0.0</td>\n",
       "      <td>...</td>\n",
       "      <td>0.0</td>\n",
       "      <td>0.0</td>\n",
       "      <td>0.0</td>\n",
       "      <td>15.0</td>\n",
       "      <td>0.0</td>\n",
       "      <td>0.0</td>\n",
       "      <td>0.0</td>\n",
       "      <td>E01008885</td>\n",
       "      <td>Birmingham 076A</td>\n",
       "      <td>90.0</td>\n",
       "    </tr>\n",
       "  </tbody>\n",
       "</table>\n",
       "<p>5 rows × 92 columns</p>\n",
       "</div>"
      ],
      "text/plain": [
       "                                       Area  \\\n",
       "13485  lsoa2011:E01008881 : Birmingham 067A   \n",
       "13486  lsoa2011:E01008882 : Birmingham 066A   \n",
       "13487  lsoa2011:E01008883 : Birmingham 078A   \n",
       "13488  lsoa2011:E01008884 : Birmingham 078B   \n",
       "13489  lsoa2011:E01008885 : Birmingham 076A   \n",
       "\n",
       "       01 : Crop and animal production, hunting and related service activities  \\\n",
       "13485                                                0.0                         \n",
       "13486                                                0.0                         \n",
       "13487                                                0.0                         \n",
       "13488                                                0.0                         \n",
       "13489                                                0.0                         \n",
       "\n",
       "       02 : Forestry and logging  03 : Fishing and aquaculture  \\\n",
       "13485                        0.0                           0.0   \n",
       "13486                        0.0                           0.0   \n",
       "13487                        0.0                           0.0   \n",
       "13488                        0.0                           0.0   \n",
       "13489                        0.0                           0.0   \n",
       "\n",
       "       05 : Mining of coal and lignite  \\\n",
       "13485                              0.0   \n",
       "13486                              0.0   \n",
       "13487                              0.0   \n",
       "13488                              0.0   \n",
       "13489                              0.0   \n",
       "\n",
       "       06 : Extraction of crude petroleum and natural gas  \\\n",
       "13485                                                0.0    \n",
       "13486                                                0.0    \n",
       "13487                                                0.0    \n",
       "13488                                                0.0    \n",
       "13489                                                0.0    \n",
       "\n",
       "       07 : Mining of metal ores  08 : Other mining and quarrying  \\\n",
       "13485                        0.0                              0.0   \n",
       "13486                        0.0                              0.0   \n",
       "13487                        0.0                              0.0   \n",
       "13488                        0.0                              0.0   \n",
       "13489                        0.0                              0.0   \n",
       "\n",
       "       09 : Mining support service activities  \\\n",
       "13485                                     0.0   \n",
       "13486                                     0.0   \n",
       "13487                                     0.0   \n",
       "13488                                     0.0   \n",
       "13489                                     0.0   \n",
       "\n",
       "       10 : Manufacture of food products  ...  \\\n",
       "13485                                0.0  ...   \n",
       "13486                                0.0  ...   \n",
       "13487                              150.0  ...   \n",
       "13488                               30.0  ...   \n",
       "13489                                0.0  ...   \n",
       "\n",
       "       93 : Sports activities and amusement and recreation activities  \\\n",
       "13485                                                0.0                \n",
       "13486                                               10.0                \n",
       "13487                                                0.0                \n",
       "13488                                                0.0                \n",
       "13489                                                0.0                \n",
       "\n",
       "       94 : Activities of membership organisations  \\\n",
       "13485                                          0.0   \n",
       "13486                                          0.0   \n",
       "13487                                         20.0   \n",
       "13488                                          0.0   \n",
       "13489                                          0.0   \n",
       "\n",
       "       95 : Repair of computers and personal and household goods  \\\n",
       "13485                                                0.0           \n",
       "13486                                                0.0           \n",
       "13487                                                0.0           \n",
       "13488                                                5.0           \n",
       "13489                                                0.0           \n",
       "\n",
       "       96 : Other personal service activities  \\\n",
       "13485                                     5.0   \n",
       "13486                                     0.0   \n",
       "13487                                     0.0   \n",
       "13488                                    40.0   \n",
       "13489                                    15.0   \n",
       "\n",
       "       97 : Activities of households as employers of domestic personnel  \\\n",
       "13485                                                0.0                  \n",
       "13486                                                0.0                  \n",
       "13487                                                0.0                  \n",
       "13488                                                0.0                  \n",
       "13489                                                0.0                  \n",
       "\n",
       "       98 : Undifferentiated goods- and services-producing activities of private households for own use  \\\n",
       "13485                                                0.0                                                  \n",
       "13486                                                0.0                                                  \n",
       "13487                                                0.0                                                  \n",
       "13488                                                0.0                                                  \n",
       "13489                                                0.0                                                  \n",
       "\n",
       "       99 : Activities of extraterritorial organisations and bodies  \\\n",
       "13485                                                0.0              \n",
       "13486                                                0.0              \n",
       "13487                                                0.0              \n",
       "13488                                                0.0              \n",
       "13489                                                0.0              \n",
       "\n",
       "        LSOA11CD         LSOA11NM  total_employment  \n",
       "13485  E01008881  Birmingham 067A             455.0  \n",
       "13486  E01008882  Birmingham 066A              30.0  \n",
       "13487  E01008883  Birmingham 078A            1810.0  \n",
       "13488  E01008884  Birmingham 078B            2590.0  \n",
       "13489  E01008885  Birmingham 076A              90.0  \n",
       "\n",
       "[5 rows x 92 columns]"
      ]
     },
     "execution_count": 55,
     "metadata": {},
     "output_type": "execute_result"
    }
   ],
   "source": [
    "#Create Total Employment Column\n",
    "empl_data['total_employment'] = empl_data[empl_data.columns[1:-2]].sum(axis=1)\n",
    "\n",
    "empl_data.head()"
   ]
  },
  {
   "cell_type": "markdown",
   "id": "62939fd5-fdf9-46bc-9ec2-a7fdc4779f34",
   "metadata": {},
   "source": [
    "### LSOA Geographic Data"
   ]
  },
  {
   "cell_type": "code",
   "execution_count": null,
   "id": "fc93316a-507a-40ad-8e4b-2bc7ee00855e",
   "metadata": {},
   "outputs": [],
   "source": [
    "#Get LSOA Shapefile Data\n",
    "lsoa_geo = gpd.read_file('data/lsoa_data/LSOA_2011_London_gen_MHW.shp')\n",
    "\n",
    "#Convert to WGS for consistency\n",
    "lsoa_geo = lsoa_geo.to_crs(epsg=4326)\n",
    "lsoa_geo = lsoa_geo.drop(lsoa_geo.columns[list(range(3, 8))], axis = 1)\n",
    "\n",
    "print(\"Num Rows (LSOAs): \" + str(lsoa_geo.shape[0]))\n",
    "\n",
    "#Get rid of columns I'm not using for now\n",
    "lsoa_geo = lsoa_geo.drop(columns=['MSOA11CD', 'HHOLDRES', 'COMESTRES', 'POPDEN', 'HHOLDS', 'AVHHOLDSZ'])\n",
    "lsoa_geo = lsoa_geo.rename(columns={'USUALRES': 'population'})\n",
    "\n",
    "lsoa_geo.head()"
   ]
  },
  {
   "cell_type": "code",
   "execution_count": null,
   "id": "f8f06dd5-d3cb-4e53-951d-3300b1383237",
   "metadata": {},
   "outputs": [],
   "source": []
  },
  {
   "cell_type": "code",
   "execution_count": null,
   "id": "78852f75-020f-4595-b897-5ea89a607b7c",
   "metadata": {},
   "outputs": [],
   "source": []
  },
  {
   "cell_type": "code",
   "execution_count": null,
   "id": "002665f2-2f68-434e-bd64-5735cdc0361f",
   "metadata": {},
   "outputs": [],
   "source": []
  },
  {
   "cell_type": "code",
   "execution_count": null,
   "id": "c7405364-26d2-4dca-b89f-5fa40181b3c4",
   "metadata": {},
   "outputs": [],
   "source": []
  }
 ],
 "metadata": {
  "kernelspec": {
   "display_name": "urbsim",
   "language": "python",
   "name": "urbsim"
  },
  "language_info": {
   "codemirror_mode": {
    "name": "ipython",
    "version": 3
   },
   "file_extension": ".py",
   "mimetype": "text/x-python",
   "name": "python",
   "nbconvert_exporter": "python",
   "pygments_lexer": "ipython3",
   "version": "3.11.7"
  }
 },
 "nbformat": 4,
 "nbformat_minor": 5
}
